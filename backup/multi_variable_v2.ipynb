{
 "cells": [
  {
   "cell_type": "code",
   "execution_count": 1,
   "id": "4e9ec813",
   "metadata": {
    "id": "4e9ec813"
   },
   "outputs": [],
   "source": [
    "import pandas as pd\n",
    "import numpy as np\n",
    "import matplotlib.pyplot as plt\n",
    "path = './'"
   ]
  },
  {
   "cell_type": "code",
   "execution_count": 2,
   "id": "8e250c1c",
   "metadata": {
    "colab": {
     "base_uri": "https://localhost:8080/",
     "height": 226
    },
    "id": "8e250c1c",
    "outputId": "aecb7d9e-2a7b-451f-a5e8-b7c6ca234cb5"
   },
   "outputs": [
    {
     "data": {
      "text/html": [
       "<div>\n",
       "<style scoped>\n",
       "    .dataframe tbody tr th:only-of-type {\n",
       "        vertical-align: middle;\n",
       "    }\n",
       "\n",
       "    .dataframe tbody tr th {\n",
       "        vertical-align: top;\n",
       "    }\n",
       "\n",
       "    .dataframe thead th {\n",
       "        text-align: right;\n",
       "    }\n",
       "</style>\n",
       "<table border=\"1\" class=\"dataframe\">\n",
       "  <thead>\n",
       "    <tr style=\"text-align: right;\">\n",
       "      <th></th>\n",
       "      <th>UNC_YEAR</th>\n",
       "      <th>HSCD</th>\n",
       "      <th>COUNTRYCD</th>\n",
       "      <th>COUNTRYNM</th>\n",
       "      <th>TRADE_COUNTRYCD</th>\n",
       "      <th>TRADE_HSCD</th>\n",
       "      <th>TARIFF_AVG</th>\n",
       "      <th>SNDIST</th>\n",
       "      <th>NY_GDP_MKTP_CD</th>\n",
       "      <th>NY_GDP_MKTP_CD_1Y</th>\n",
       "      <th>SP_POP_TOTL</th>\n",
       "      <th>PA_NUS_FCRF</th>\n",
       "      <th>IC_BUS_EASE_DFRN_DB</th>\n",
       "      <th>KMDIST</th>\n",
       "      <th>TRADE_HSCD_COUNTRYCD</th>\n",
       "      <th>KR_TRADE_HSCD_COUNTRYCD</th>\n",
       "    </tr>\n",
       "  </thead>\n",
       "  <tbody>\n",
       "    <tr>\n",
       "      <th>0</th>\n",
       "      <td>2017</td>\n",
       "      <td>190590</td>\n",
       "      <td>12</td>\n",
       "      <td>Algeria</td>\n",
       "      <td>4.605299e+10</td>\n",
       "      <td>1.948099e+10</td>\n",
       "      <td>30.0</td>\n",
       "      <td>3878.238437</td>\n",
       "      <td>1.701630e+11</td>\n",
       "      <td>1.599950e+11</td>\n",
       "      <td>41389198</td>\n",
       "      <td>110.973017</td>\n",
       "      <td>46.109810</td>\n",
       "      <td>9954.009766</td>\n",
       "      <td>3416326.0</td>\n",
       "      <td>7657</td>\n",
       "    </tr>\n",
       "    <tr>\n",
       "      <th>1</th>\n",
       "      <td>2017</td>\n",
       "      <td>190590</td>\n",
       "      <td>36</td>\n",
       "      <td>Australia</td>\n",
       "      <td>2.284420e+11</td>\n",
       "      <td>1.948099e+10</td>\n",
       "      <td>0.0</td>\n",
       "      <td>12203.155980</td>\n",
       "      <td>1.329190e+12</td>\n",
       "      <td>1.208850e+12</td>\n",
       "      <td>24601860</td>\n",
       "      <td>1.304758</td>\n",
       "      <td>80.223690</td>\n",
       "      <td>8329.652344</td>\n",
       "      <td>438747025.0</td>\n",
       "      <td>5294788</td>\n",
       "    </tr>\n",
       "    <tr>\n",
       "      <th>2</th>\n",
       "      <td>2017</td>\n",
       "      <td>190590</td>\n",
       "      <td>40</td>\n",
       "      <td>Austria</td>\n",
       "      <td>1.664750e+11</td>\n",
       "      <td>1.948099e+10</td>\n",
       "      <td>0.0</td>\n",
       "      <td>4403.247293</td>\n",
       "      <td>4.172380e+11</td>\n",
       "      <td>3.955690e+11</td>\n",
       "      <td>8797566</td>\n",
       "      <td>NaN</td>\n",
       "      <td>78.856460</td>\n",
       "      <td>8289.029297</td>\n",
       "      <td>453206357.0</td>\n",
       "      <td>335818</td>\n",
       "    </tr>\n",
       "    <tr>\n",
       "      <th>3</th>\n",
       "      <td>2017</td>\n",
       "      <td>190590</td>\n",
       "      <td>56</td>\n",
       "      <td>Belgium</td>\n",
       "      <td>4.064120e+11</td>\n",
       "      <td>1.948099e+10</td>\n",
       "      <td>0.0</td>\n",
       "      <td>3980.375563</td>\n",
       "      <td>5.026980e+11</td>\n",
       "      <td>4.757400e+11</td>\n",
       "      <td>11375158</td>\n",
       "      <td>NaN</td>\n",
       "      <td>72.409200</td>\n",
       "      <td>8722.114258</td>\n",
       "      <td>706524512.0</td>\n",
       "      <td>173709</td>\n",
       "    </tr>\n",
       "    <tr>\n",
       "      <th>4</th>\n",
       "      <td>2017</td>\n",
       "      <td>190590</td>\n",
       "      <td>76</td>\n",
       "      <td>Brazil</td>\n",
       "      <td>1.507490e+11</td>\n",
       "      <td>1.948099e+10</td>\n",
       "      <td>18.0</td>\n",
       "      <td>9644.206941</td>\n",
       "      <td>2.062830e+12</td>\n",
       "      <td>1.795700e+12</td>\n",
       "      <td>207833831</td>\n",
       "      <td>3.191389</td>\n",
       "      <td>55.382403</td>\n",
       "      <td>18364.505860</td>\n",
       "      <td>31329648.0</td>\n",
       "      <td>122850</td>\n",
       "    </tr>\n",
       "  </tbody>\n",
       "</table>\n",
       "</div>"
      ],
      "text/plain": [
       "   UNC_YEAR    HSCD  COUNTRYCD  COUNTRYNM  TRADE_COUNTRYCD    TRADE_HSCD  \\\n",
       "0      2017  190590         12    Algeria     4.605299e+10  1.948099e+10   \n",
       "1      2017  190590         36  Australia     2.284420e+11  1.948099e+10   \n",
       "2      2017  190590         40    Austria     1.664750e+11  1.948099e+10   \n",
       "3      2017  190590         56    Belgium     4.064120e+11  1.948099e+10   \n",
       "4      2017  190590         76     Brazil     1.507490e+11  1.948099e+10   \n",
       "\n",
       "   TARIFF_AVG        SNDIST  NY_GDP_MKTP_CD  NY_GDP_MKTP_CD_1Y  SP_POP_TOTL  \\\n",
       "0        30.0   3878.238437    1.701630e+11       1.599950e+11     41389198   \n",
       "1         0.0  12203.155980    1.329190e+12       1.208850e+12     24601860   \n",
       "2         0.0   4403.247293    4.172380e+11       3.955690e+11      8797566   \n",
       "3         0.0   3980.375563    5.026980e+11       4.757400e+11     11375158   \n",
       "4        18.0   9644.206941    2.062830e+12       1.795700e+12    207833831   \n",
       "\n",
       "   PA_NUS_FCRF  IC_BUS_EASE_DFRN_DB        KMDIST  TRADE_HSCD_COUNTRYCD  \\\n",
       "0   110.973017            46.109810   9954.009766             3416326.0   \n",
       "1     1.304758            80.223690   8329.652344           438747025.0   \n",
       "2          NaN            78.856460   8289.029297           453206357.0   \n",
       "3          NaN            72.409200   8722.114258           706524512.0   \n",
       "4     3.191389            55.382403  18364.505860            31329648.0   \n",
       "\n",
       "   KR_TRADE_HSCD_COUNTRYCD  \n",
       "0                     7657  \n",
       "1                  5294788  \n",
       "2                   335818  \n",
       "3                   173709  \n",
       "4                   122850  "
      ]
     },
     "execution_count": 2,
     "metadata": {},
     "output_type": "execute_result"
    }
   ],
   "source": [
    "df = pd.read_csv(path + 'train.csv')\n",
    "df.head()"
   ]
  },
  {
   "cell_type": "code",
   "execution_count": 3,
   "id": "kUcKVfXYSVAO",
   "metadata": {
    "id": "kUcKVfXYSVAO"
   },
   "outputs": [],
   "source": [
    "idx = df[df['TARIFF_AVG'].isnull()].index\n",
    "df = df.drop(idx)\n",
    "idx = df[df[\"KR_TRADE_HSCD_COUNTRYCD\"] == 0.0].index\n",
    "df = df.drop(idx)\n",
    "idx = df[df[\"TRADE_HSCD_COUNTRYCD\"].isnull()].index\n",
    "df = df.drop(idx)"
   ]
  },
  {
   "cell_type": "code",
   "execution_count": 4,
   "id": "XQZO76oGSU4a",
   "metadata": {
    "colab": {
     "base_uri": "https://localhost:8080/",
     "height": 226
    },
    "id": "XQZO76oGSU4a",
    "outputId": "4cade13e-9da2-464c-ebd4-4ce6ea63107b"
   },
   "outputs": [
    {
     "data": {
      "text/html": [
       "<div>\n",
       "<style scoped>\n",
       "    .dataframe tbody tr th:only-of-type {\n",
       "        vertical-align: middle;\n",
       "    }\n",
       "\n",
       "    .dataframe tbody tr th {\n",
       "        vertical-align: top;\n",
       "    }\n",
       "\n",
       "    .dataframe thead th {\n",
       "        text-align: right;\n",
       "    }\n",
       "</style>\n",
       "<table border=\"1\" class=\"dataframe\">\n",
       "  <thead>\n",
       "    <tr style=\"text-align: right;\">\n",
       "      <th></th>\n",
       "      <th>UNC_YEAR</th>\n",
       "      <th>HSCD</th>\n",
       "      <th>COUNTRYCD</th>\n",
       "      <th>COUNTRYNM</th>\n",
       "      <th>TRADE_COUNTRYCD</th>\n",
       "      <th>TRADE_HSCD</th>\n",
       "      <th>TARIFF_AVG</th>\n",
       "      <th>SNDIST</th>\n",
       "      <th>NY_GDP_MKTP_CD</th>\n",
       "      <th>NY_GDP_MKTP_CD_1Y</th>\n",
       "      <th>SP_POP_TOTL</th>\n",
       "      <th>PA_NUS_FCRF</th>\n",
       "      <th>IC_BUS_EASE_DFRN_DB</th>\n",
       "      <th>KMDIST</th>\n",
       "      <th>TRADE_HSCD_COUNTRYCD</th>\n",
       "      <th>KR_TRADE_HSCD_COUNTRYCD</th>\n",
       "    </tr>\n",
       "  </thead>\n",
       "  <tbody>\n",
       "    <tr>\n",
       "      <th>0</th>\n",
       "      <td>2017</td>\n",
       "      <td>190590</td>\n",
       "      <td>12</td>\n",
       "      <td>Algeria</td>\n",
       "      <td>4.605299e+10</td>\n",
       "      <td>1.948099e+10</td>\n",
       "      <td>30.0</td>\n",
       "      <td>3878.238437</td>\n",
       "      <td>1.701630e+11</td>\n",
       "      <td>1.599950e+11</td>\n",
       "      <td>41389198</td>\n",
       "      <td>110.973017</td>\n",
       "      <td>46.109810</td>\n",
       "      <td>9954.009766</td>\n",
       "      <td>3416326.0</td>\n",
       "      <td>7657</td>\n",
       "    </tr>\n",
       "    <tr>\n",
       "      <th>1</th>\n",
       "      <td>2017</td>\n",
       "      <td>190590</td>\n",
       "      <td>36</td>\n",
       "      <td>Australia</td>\n",
       "      <td>2.284420e+11</td>\n",
       "      <td>1.948099e+10</td>\n",
       "      <td>0.0</td>\n",
       "      <td>12203.155980</td>\n",
       "      <td>1.329190e+12</td>\n",
       "      <td>1.208850e+12</td>\n",
       "      <td>24601860</td>\n",
       "      <td>1.304758</td>\n",
       "      <td>80.223690</td>\n",
       "      <td>8329.652344</td>\n",
       "      <td>438747025.0</td>\n",
       "      <td>5294788</td>\n",
       "    </tr>\n",
       "    <tr>\n",
       "      <th>2</th>\n",
       "      <td>2017</td>\n",
       "      <td>190590</td>\n",
       "      <td>40</td>\n",
       "      <td>Austria</td>\n",
       "      <td>1.664750e+11</td>\n",
       "      <td>1.948099e+10</td>\n",
       "      <td>0.0</td>\n",
       "      <td>4403.247293</td>\n",
       "      <td>4.172380e+11</td>\n",
       "      <td>3.955690e+11</td>\n",
       "      <td>8797566</td>\n",
       "      <td>NaN</td>\n",
       "      <td>78.856460</td>\n",
       "      <td>8289.029297</td>\n",
       "      <td>453206357.0</td>\n",
       "      <td>335818</td>\n",
       "    </tr>\n",
       "    <tr>\n",
       "      <th>3</th>\n",
       "      <td>2017</td>\n",
       "      <td>190590</td>\n",
       "      <td>56</td>\n",
       "      <td>Belgium</td>\n",
       "      <td>4.064120e+11</td>\n",
       "      <td>1.948099e+10</td>\n",
       "      <td>0.0</td>\n",
       "      <td>3980.375563</td>\n",
       "      <td>5.026980e+11</td>\n",
       "      <td>4.757400e+11</td>\n",
       "      <td>11375158</td>\n",
       "      <td>NaN</td>\n",
       "      <td>72.409200</td>\n",
       "      <td>8722.114258</td>\n",
       "      <td>706524512.0</td>\n",
       "      <td>173709</td>\n",
       "    </tr>\n",
       "    <tr>\n",
       "      <th>4</th>\n",
       "      <td>2017</td>\n",
       "      <td>190590</td>\n",
       "      <td>76</td>\n",
       "      <td>Brazil</td>\n",
       "      <td>1.507490e+11</td>\n",
       "      <td>1.948099e+10</td>\n",
       "      <td>18.0</td>\n",
       "      <td>9644.206941</td>\n",
       "      <td>2.062830e+12</td>\n",
       "      <td>1.795700e+12</td>\n",
       "      <td>207833831</td>\n",
       "      <td>3.191389</td>\n",
       "      <td>55.382403</td>\n",
       "      <td>18364.505860</td>\n",
       "      <td>31329648.0</td>\n",
       "      <td>122850</td>\n",
       "    </tr>\n",
       "  </tbody>\n",
       "</table>\n",
       "</div>"
      ],
      "text/plain": [
       "   UNC_YEAR    HSCD  COUNTRYCD  COUNTRYNM  TRADE_COUNTRYCD    TRADE_HSCD  \\\n",
       "0      2017  190590         12    Algeria     4.605299e+10  1.948099e+10   \n",
       "1      2017  190590         36  Australia     2.284420e+11  1.948099e+10   \n",
       "2      2017  190590         40    Austria     1.664750e+11  1.948099e+10   \n",
       "3      2017  190590         56    Belgium     4.064120e+11  1.948099e+10   \n",
       "4      2017  190590         76     Brazil     1.507490e+11  1.948099e+10   \n",
       "\n",
       "   TARIFF_AVG        SNDIST  NY_GDP_MKTP_CD  NY_GDP_MKTP_CD_1Y  SP_POP_TOTL  \\\n",
       "0        30.0   3878.238437    1.701630e+11       1.599950e+11     41389198   \n",
       "1         0.0  12203.155980    1.329190e+12       1.208850e+12     24601860   \n",
       "2         0.0   4403.247293    4.172380e+11       3.955690e+11      8797566   \n",
       "3         0.0   3980.375563    5.026980e+11       4.757400e+11     11375158   \n",
       "4        18.0   9644.206941    2.062830e+12       1.795700e+12    207833831   \n",
       "\n",
       "   PA_NUS_FCRF  IC_BUS_EASE_DFRN_DB        KMDIST  TRADE_HSCD_COUNTRYCD  \\\n",
       "0   110.973017            46.109810   9954.009766             3416326.0   \n",
       "1     1.304758            80.223690   8329.652344           438747025.0   \n",
       "2          NaN            78.856460   8289.029297           453206357.0   \n",
       "3          NaN            72.409200   8722.114258           706524512.0   \n",
       "4     3.191389            55.382403  18364.505860            31329648.0   \n",
       "\n",
       "   KR_TRADE_HSCD_COUNTRYCD  \n",
       "0                     7657  \n",
       "1                  5294788  \n",
       "2                   335818  \n",
       "3                   173709  \n",
       "4                   122850  "
      ]
     },
     "execution_count": 4,
     "metadata": {},
     "output_type": "execute_result"
    }
   ],
   "source": [
    "df.head()"
   ]
  },
  {
   "cell_type": "code",
   "execution_count": 5,
   "id": "PhwpYS4qTM2t",
   "metadata": {
    "colab": {
     "base_uri": "https://localhost:8080/",
     "height": 319
    },
    "id": "PhwpYS4qTM2t",
    "outputId": "f7fd7595-b706-4c7a-cd33-327c3f8801ed"
   },
   "outputs": [
    {
     "name": "stderr",
     "output_type": "stream",
     "text": [
      "/home/jihoon/anaconda3/envs/iqn_torch/lib/python3.6/site-packages/pandas/core/indexing.py:670: SettingWithCopyWarning: \n",
      "A value is trying to be set on a copy of a slice from a DataFrame\n",
      "\n",
      "See the caveats in the documentation: https://pandas.pydata.org/pandas-docs/stable/user_guide/indexing.html#returning-a-view-versus-a-copy\n",
      "  iloc._setitem_with_indexer(indexer, value)\n"
     ]
    },
    {
     "data": {
      "text/html": [
       "<div>\n",
       "<style scoped>\n",
       "    .dataframe tbody tr th:only-of-type {\n",
       "        vertical-align: middle;\n",
       "    }\n",
       "\n",
       "    .dataframe tbody tr th {\n",
       "        vertical-align: top;\n",
       "    }\n",
       "\n",
       "    .dataframe thead th {\n",
       "        text-align: right;\n",
       "    }\n",
       "</style>\n",
       "<table border=\"1\" class=\"dataframe\">\n",
       "  <thead>\n",
       "    <tr style=\"text-align: right;\">\n",
       "      <th></th>\n",
       "      <th>UNC_YEAR</th>\n",
       "      <th>HSCD</th>\n",
       "      <th>COUNTRYCD</th>\n",
       "      <th>COUNTRYNM</th>\n",
       "      <th>TRADE_COUNTRYCD</th>\n",
       "      <th>TRADE_HSCD</th>\n",
       "      <th>TARIFF_AVG</th>\n",
       "      <th>SNDIST</th>\n",
       "      <th>NY_GDP_MKTP_CD</th>\n",
       "      <th>NY_GDP_MKTP_CD_1Y</th>\n",
       "      <th>SP_POP_TOTL</th>\n",
       "      <th>PA_NUS_FCRF</th>\n",
       "      <th>IC_BUS_EASE_DFRN_DB</th>\n",
       "      <th>KMDIST</th>\n",
       "      <th>TRADE_HSCD_COUNTRYCD</th>\n",
       "      <th>KR_TRADE_HSCD_COUNTRYCD</th>\n",
       "    </tr>\n",
       "  </thead>\n",
       "  <tbody>\n",
       "    <tr>\n",
       "      <th>0</th>\n",
       "      <td>2017</td>\n",
       "      <td>1</td>\n",
       "      <td>12</td>\n",
       "      <td>Algeria</td>\n",
       "      <td>4.605299e+10</td>\n",
       "      <td>1.948099e+10</td>\n",
       "      <td>30.0</td>\n",
       "      <td>3878.238437</td>\n",
       "      <td>1.701630e+11</td>\n",
       "      <td>1.599950e+11</td>\n",
       "      <td>41389198</td>\n",
       "      <td>110.973017</td>\n",
       "      <td>46.109810</td>\n",
       "      <td>9954.009766</td>\n",
       "      <td>3416326.0</td>\n",
       "      <td>7657</td>\n",
       "    </tr>\n",
       "    <tr>\n",
       "      <th>1</th>\n",
       "      <td>2017</td>\n",
       "      <td>1</td>\n",
       "      <td>36</td>\n",
       "      <td>Australia</td>\n",
       "      <td>2.284420e+11</td>\n",
       "      <td>1.948099e+10</td>\n",
       "      <td>0.0</td>\n",
       "      <td>12203.155980</td>\n",
       "      <td>1.329190e+12</td>\n",
       "      <td>1.208850e+12</td>\n",
       "      <td>24601860</td>\n",
       "      <td>1.304758</td>\n",
       "      <td>80.223690</td>\n",
       "      <td>8329.652344</td>\n",
       "      <td>438747025.0</td>\n",
       "      <td>5294788</td>\n",
       "    </tr>\n",
       "    <tr>\n",
       "      <th>2</th>\n",
       "      <td>2017</td>\n",
       "      <td>1</td>\n",
       "      <td>40</td>\n",
       "      <td>Austria</td>\n",
       "      <td>1.664750e+11</td>\n",
       "      <td>1.948099e+10</td>\n",
       "      <td>0.0</td>\n",
       "      <td>4403.247293</td>\n",
       "      <td>4.172380e+11</td>\n",
       "      <td>3.955690e+11</td>\n",
       "      <td>8797566</td>\n",
       "      <td>NaN</td>\n",
       "      <td>78.856460</td>\n",
       "      <td>8289.029297</td>\n",
       "      <td>453206357.0</td>\n",
       "      <td>335818</td>\n",
       "    </tr>\n",
       "    <tr>\n",
       "      <th>3</th>\n",
       "      <td>2017</td>\n",
       "      <td>1</td>\n",
       "      <td>56</td>\n",
       "      <td>Belgium</td>\n",
       "      <td>4.064120e+11</td>\n",
       "      <td>1.948099e+10</td>\n",
       "      <td>0.0</td>\n",
       "      <td>3980.375563</td>\n",
       "      <td>5.026980e+11</td>\n",
       "      <td>4.757400e+11</td>\n",
       "      <td>11375158</td>\n",
       "      <td>NaN</td>\n",
       "      <td>72.409200</td>\n",
       "      <td>8722.114258</td>\n",
       "      <td>706524512.0</td>\n",
       "      <td>173709</td>\n",
       "    </tr>\n",
       "    <tr>\n",
       "      <th>4</th>\n",
       "      <td>2017</td>\n",
       "      <td>1</td>\n",
       "      <td>76</td>\n",
       "      <td>Brazil</td>\n",
       "      <td>1.507490e+11</td>\n",
       "      <td>1.948099e+10</td>\n",
       "      <td>18.0</td>\n",
       "      <td>9644.206941</td>\n",
       "      <td>2.062830e+12</td>\n",
       "      <td>1.795700e+12</td>\n",
       "      <td>207833831</td>\n",
       "      <td>3.191389</td>\n",
       "      <td>55.382403</td>\n",
       "      <td>18364.505860</td>\n",
       "      <td>31329648.0</td>\n",
       "      <td>122850</td>\n",
       "    </tr>\n",
       "  </tbody>\n",
       "</table>\n",
       "</div>"
      ],
      "text/plain": [
       "   UNC_YEAR  HSCD  COUNTRYCD  COUNTRYNM  TRADE_COUNTRYCD    TRADE_HSCD  \\\n",
       "0      2017     1         12    Algeria     4.605299e+10  1.948099e+10   \n",
       "1      2017     1         36  Australia     2.284420e+11  1.948099e+10   \n",
       "2      2017     1         40    Austria     1.664750e+11  1.948099e+10   \n",
       "3      2017     1         56    Belgium     4.064120e+11  1.948099e+10   \n",
       "4      2017     1         76     Brazil     1.507490e+11  1.948099e+10   \n",
       "\n",
       "   TARIFF_AVG        SNDIST  NY_GDP_MKTP_CD  NY_GDP_MKTP_CD_1Y  SP_POP_TOTL  \\\n",
       "0        30.0   3878.238437    1.701630e+11       1.599950e+11     41389198   \n",
       "1         0.0  12203.155980    1.329190e+12       1.208850e+12     24601860   \n",
       "2         0.0   4403.247293    4.172380e+11       3.955690e+11      8797566   \n",
       "3         0.0   3980.375563    5.026980e+11       4.757400e+11     11375158   \n",
       "4        18.0   9644.206941    2.062830e+12       1.795700e+12    207833831   \n",
       "\n",
       "   PA_NUS_FCRF  IC_BUS_EASE_DFRN_DB        KMDIST  TRADE_HSCD_COUNTRYCD  \\\n",
       "0   110.973017            46.109810   9954.009766             3416326.0   \n",
       "1     1.304758            80.223690   8329.652344           438747025.0   \n",
       "2          NaN            78.856460   8289.029297           453206357.0   \n",
       "3          NaN            72.409200   8722.114258           706524512.0   \n",
       "4     3.191389            55.382403  18364.505860            31329648.0   \n",
       "\n",
       "   KR_TRADE_HSCD_COUNTRYCD  \n",
       "0                     7657  \n",
       "1                  5294788  \n",
       "2                   335818  \n",
       "3                   173709  \n",
       "4                   122850  "
      ]
     },
     "execution_count": 5,
     "metadata": {},
     "output_type": "execute_result"
    }
   ],
   "source": [
    "hcsd_uniq = df['HSCD'].unique()\n",
    "for i in range(len(df['HSCD'])):\n",
    "  for x in range(len(hcsd_uniq)):\n",
    "    if hcsd_uniq[x] == df['HSCD'].iloc[i]:\n",
    "      df['HSCD'].iloc[i] = (x+1)\n",
    "      break\n",
    "\n",
    "df.head()"
   ]
  },
  {
   "cell_type": "code",
   "execution_count": 6,
   "id": "UYJpx2BkmgoB",
   "metadata": {
    "id": "UYJpx2BkmgoB"
   },
   "outputs": [],
   "source": [
    "df = df.drop(columns=['UNC_YEAR', 'COUNTRYNM', 'SNDIST', 'PA_NUS_FCRF'])"
   ]
  },
  {
   "cell_type": "code",
   "execution_count": 7,
   "id": "kwKN29ahmglz",
   "metadata": {
    "colab": {
     "base_uri": "https://localhost:8080/",
     "height": 226
    },
    "id": "kwKN29ahmglz",
    "outputId": "9537efce-b0b3-422e-8868-de5ea6bf3ff9"
   },
   "outputs": [
    {
     "data": {
      "text/html": [
       "<div>\n",
       "<style scoped>\n",
       "    .dataframe tbody tr th:only-of-type {\n",
       "        vertical-align: middle;\n",
       "    }\n",
       "\n",
       "    .dataframe tbody tr th {\n",
       "        vertical-align: top;\n",
       "    }\n",
       "\n",
       "    .dataframe thead th {\n",
       "        text-align: right;\n",
       "    }\n",
       "</style>\n",
       "<table border=\"1\" class=\"dataframe\">\n",
       "  <thead>\n",
       "    <tr style=\"text-align: right;\">\n",
       "      <th></th>\n",
       "      <th>HSCD</th>\n",
       "      <th>COUNTRYCD</th>\n",
       "      <th>TRADE_COUNTRYCD</th>\n",
       "      <th>TRADE_HSCD</th>\n",
       "      <th>TARIFF_AVG</th>\n",
       "      <th>NY_GDP_MKTP_CD</th>\n",
       "      <th>NY_GDP_MKTP_CD_1Y</th>\n",
       "      <th>SP_POP_TOTL</th>\n",
       "      <th>IC_BUS_EASE_DFRN_DB</th>\n",
       "      <th>KMDIST</th>\n",
       "      <th>TRADE_HSCD_COUNTRYCD</th>\n",
       "      <th>KR_TRADE_HSCD_COUNTRYCD</th>\n",
       "    </tr>\n",
       "  </thead>\n",
       "  <tbody>\n",
       "    <tr>\n",
       "      <th>0</th>\n",
       "      <td>1</td>\n",
       "      <td>12</td>\n",
       "      <td>4.605299e+10</td>\n",
       "      <td>1.948099e+10</td>\n",
       "      <td>30.0</td>\n",
       "      <td>1.701630e+11</td>\n",
       "      <td>1.599950e+11</td>\n",
       "      <td>41389198</td>\n",
       "      <td>46.109810</td>\n",
       "      <td>9954.009766</td>\n",
       "      <td>3416326.0</td>\n",
       "      <td>7657</td>\n",
       "    </tr>\n",
       "    <tr>\n",
       "      <th>1</th>\n",
       "      <td>1</td>\n",
       "      <td>36</td>\n",
       "      <td>2.284420e+11</td>\n",
       "      <td>1.948099e+10</td>\n",
       "      <td>0.0</td>\n",
       "      <td>1.329190e+12</td>\n",
       "      <td>1.208850e+12</td>\n",
       "      <td>24601860</td>\n",
       "      <td>80.223690</td>\n",
       "      <td>8329.652344</td>\n",
       "      <td>438747025.0</td>\n",
       "      <td>5294788</td>\n",
       "    </tr>\n",
       "    <tr>\n",
       "      <th>2</th>\n",
       "      <td>1</td>\n",
       "      <td>40</td>\n",
       "      <td>1.664750e+11</td>\n",
       "      <td>1.948099e+10</td>\n",
       "      <td>0.0</td>\n",
       "      <td>4.172380e+11</td>\n",
       "      <td>3.955690e+11</td>\n",
       "      <td>8797566</td>\n",
       "      <td>78.856460</td>\n",
       "      <td>8289.029297</td>\n",
       "      <td>453206357.0</td>\n",
       "      <td>335818</td>\n",
       "    </tr>\n",
       "    <tr>\n",
       "      <th>3</th>\n",
       "      <td>1</td>\n",
       "      <td>56</td>\n",
       "      <td>4.064120e+11</td>\n",
       "      <td>1.948099e+10</td>\n",
       "      <td>0.0</td>\n",
       "      <td>5.026980e+11</td>\n",
       "      <td>4.757400e+11</td>\n",
       "      <td>11375158</td>\n",
       "      <td>72.409200</td>\n",
       "      <td>8722.114258</td>\n",
       "      <td>706524512.0</td>\n",
       "      <td>173709</td>\n",
       "    </tr>\n",
       "    <tr>\n",
       "      <th>4</th>\n",
       "      <td>1</td>\n",
       "      <td>76</td>\n",
       "      <td>1.507490e+11</td>\n",
       "      <td>1.948099e+10</td>\n",
       "      <td>18.0</td>\n",
       "      <td>2.062830e+12</td>\n",
       "      <td>1.795700e+12</td>\n",
       "      <td>207833831</td>\n",
       "      <td>55.382403</td>\n",
       "      <td>18364.505860</td>\n",
       "      <td>31329648.0</td>\n",
       "      <td>122850</td>\n",
       "    </tr>\n",
       "  </tbody>\n",
       "</table>\n",
       "</div>"
      ],
      "text/plain": [
       "   HSCD  COUNTRYCD  TRADE_COUNTRYCD    TRADE_HSCD  TARIFF_AVG  NY_GDP_MKTP_CD  \\\n",
       "0     1         12     4.605299e+10  1.948099e+10        30.0    1.701630e+11   \n",
       "1     1         36     2.284420e+11  1.948099e+10         0.0    1.329190e+12   \n",
       "2     1         40     1.664750e+11  1.948099e+10         0.0    4.172380e+11   \n",
       "3     1         56     4.064120e+11  1.948099e+10         0.0    5.026980e+11   \n",
       "4     1         76     1.507490e+11  1.948099e+10        18.0    2.062830e+12   \n",
       "\n",
       "   NY_GDP_MKTP_CD_1Y  SP_POP_TOTL  IC_BUS_EASE_DFRN_DB        KMDIST  \\\n",
       "0       1.599950e+11     41389198            46.109810   9954.009766   \n",
       "1       1.208850e+12     24601860            80.223690   8329.652344   \n",
       "2       3.955690e+11      8797566            78.856460   8289.029297   \n",
       "3       4.757400e+11     11375158            72.409200   8722.114258   \n",
       "4       1.795700e+12    207833831            55.382403  18364.505860   \n",
       "\n",
       "   TRADE_HSCD_COUNTRYCD  KR_TRADE_HSCD_COUNTRYCD  \n",
       "0             3416326.0                     7657  \n",
       "1           438747025.0                  5294788  \n",
       "2           453206357.0                   335818  \n",
       "3           706524512.0                   173709  \n",
       "4            31329648.0                   122850  "
      ]
     },
     "execution_count": 7,
     "metadata": {},
     "output_type": "execute_result"
    }
   ],
   "source": [
    "df.head()"
   ]
  },
  {
   "cell_type": "code",
   "execution_count": 8,
   "id": "6e1a3575",
   "metadata": {
    "colab": {
     "base_uri": "https://localhost:8080/",
     "height": 556
    },
    "id": "6e1a3575",
    "outputId": "e28c0b11-a2eb-4b12-fa5d-8409f7064960"
   },
   "outputs": [
    {
     "data": {
      "text/plain": [
       "<matplotlib.axes._subplots.AxesSubplot at 0x7f60536da748>"
      ]
     },
     "execution_count": 8,
     "metadata": {},
     "output_type": "execute_result"
    },
    {
     "data": {
      "image/png": "[encoded data removed]",
      "text/plain": [
       "<Figure size 504x648 with 1 Axes>"
      ]
     },
     "metadata": {
      "needs_background": "light"
     },
     "output_type": "display_data"
    }
   ],
   "source": [
    "df.isnull().mean().plot.barh(figsize=(7,9))"
   ]
  },
  {
   "cell_type": "code",
   "execution_count": 9,
   "id": "8d23c8fb",
   "metadata": {
    "colab": {
     "base_uri": "https://localhost:8080/"
    },
    "id": "8d23c8fb",
    "outputId": "1e4b18aa-01af-4448-abcf-1ffb1f12fea0"
   },
   "outputs": [
    {
     "data": {
      "text/plain": [
       "(20713, 12)"
      ]
     },
     "execution_count": 9,
     "metadata": {},
     "output_type": "execute_result"
    }
   ],
   "source": [
    "df.shape\n"
   ]
  },
  {
   "cell_type": "code",
   "execution_count": 10,
   "id": "c69ce14b",
   "metadata": {
    "colab": {
     "base_uri": "https://localhost:8080/"
    },
    "id": "c69ce14b",
    "outputId": "858e5cf0-3ad5-4a94-bf16-ff4f04d86b06"
   },
   "outputs": [
    {
     "data": {
      "text/plain": [
       "0        0.224130\n",
       "1        1.206797\n",
       "2        0.074098\n",
       "3        0.024586\n",
       "4        0.392121\n",
       "           ...   \n",
       "21098    0.870154\n",
       "21099    2.552436\n",
       "21100    0.412353\n",
       "21101    0.273898\n",
       "21102    6.848066\n",
       "Name: next_year_percent, Length: 20713, dtype: float64"
      ]
     },
     "execution_count": 10,
     "metadata": {},
     "output_type": "execute_result"
    }
   ],
   "source": [
    "df[\"item_total_percent\"] = df[\"TRADE_HSCD_COUNTRYCD\"]/ df[\"TRADE_COUNTRYCD\"] * 100\n",
    "df[\"item_world_percent\"] = df[\"TRADE_HSCD_COUNTRYCD\"] / df[\"TRADE_HSCD\"] * 100\n",
    "df[\"gdp_percent\"] = df[\"NY_GDP_MKTP_CD\"] / df[\"NY_GDP_MKTP_CD_1Y\"] * 100\n",
    "df[\"next_year_percent\"] = df[\"KR_TRADE_HSCD_COUNTRYCD\"] / df[\"TRADE_HSCD_COUNTRYCD\"] * 100\n",
    "df[\"next_year_percent\"]"
   ]
  },
  {
   "cell_type": "code",
   "execution_count": 11,
   "id": "ad715cd5",
   "metadata": {
    "colab": {
     "base_uri": "https://localhost:8080/",
     "height": 226
    },
    "id": "ad715cd5",
    "outputId": "f59c9e2c-8859-4c12-eb27-159f782aba59"
   },
   "outputs": [
    {
     "data": {
      "text/html": [
       "<div>\n",
       "<style scoped>\n",
       "    .dataframe tbody tr th:only-of-type {\n",
       "        vertical-align: middle;\n",
       "    }\n",
       "\n",
       "    .dataframe tbody tr th {\n",
       "        vertical-align: top;\n",
       "    }\n",
       "\n",
       "    .dataframe thead th {\n",
       "        text-align: right;\n",
       "    }\n",
       "</style>\n",
       "<table border=\"1\" class=\"dataframe\">\n",
       "  <thead>\n",
       "    <tr style=\"text-align: right;\">\n",
       "      <th></th>\n",
       "      <th>HSCD</th>\n",
       "      <th>COUNTRYCD</th>\n",
       "      <th>TRADE_COUNTRYCD</th>\n",
       "      <th>TRADE_HSCD</th>\n",
       "      <th>TARIFF_AVG</th>\n",
       "      <th>NY_GDP_MKTP_CD</th>\n",
       "      <th>NY_GDP_MKTP_CD_1Y</th>\n",
       "      <th>SP_POP_TOTL</th>\n",
       "      <th>IC_BUS_EASE_DFRN_DB</th>\n",
       "      <th>KMDIST</th>\n",
       "      <th>TRADE_HSCD_COUNTRYCD</th>\n",
       "      <th>KR_TRADE_HSCD_COUNTRYCD</th>\n",
       "      <th>item_total_percent</th>\n",
       "      <th>item_world_percent</th>\n",
       "      <th>gdp_percent</th>\n",
       "      <th>next_year_percent</th>\n",
       "    </tr>\n",
       "  </thead>\n",
       "  <tbody>\n",
       "    <tr>\n",
       "      <th>0</th>\n",
       "      <td>1</td>\n",
       "      <td>12</td>\n",
       "      <td>4.605299e+10</td>\n",
       "      <td>1.948099e+10</td>\n",
       "      <td>30.0</td>\n",
       "      <td>1.701630e+11</td>\n",
       "      <td>1.599950e+11</td>\n",
       "      <td>41389198</td>\n",
       "      <td>46.109810</td>\n",
       "      <td>9954.009766</td>\n",
       "      <td>3416326.0</td>\n",
       "      <td>7657</td>\n",
       "      <td>0.007418</td>\n",
       "      <td>0.017537</td>\n",
       "      <td>106.355199</td>\n",
       "      <td>0.224130</td>\n",
       "    </tr>\n",
       "    <tr>\n",
       "      <th>1</th>\n",
       "      <td>1</td>\n",
       "      <td>36</td>\n",
       "      <td>2.284420e+11</td>\n",
       "      <td>1.948099e+10</td>\n",
       "      <td>0.0</td>\n",
       "      <td>1.329190e+12</td>\n",
       "      <td>1.208850e+12</td>\n",
       "      <td>24601860</td>\n",
       "      <td>80.223690</td>\n",
       "      <td>8329.652344</td>\n",
       "      <td>438747025.0</td>\n",
       "      <td>5294788</td>\n",
       "      <td>0.192061</td>\n",
       "      <td>2.252181</td>\n",
       "      <td>109.954916</td>\n",
       "      <td>1.206797</td>\n",
       "    </tr>\n",
       "    <tr>\n",
       "      <th>2</th>\n",
       "      <td>1</td>\n",
       "      <td>40</td>\n",
       "      <td>1.664750e+11</td>\n",
       "      <td>1.948099e+10</td>\n",
       "      <td>0.0</td>\n",
       "      <td>4.172380e+11</td>\n",
       "      <td>3.955690e+11</td>\n",
       "      <td>8797566</td>\n",
       "      <td>78.856460</td>\n",
       "      <td>8289.029297</td>\n",
       "      <td>453206357.0</td>\n",
       "      <td>335818</td>\n",
       "      <td>0.272237</td>\n",
       "      <td>2.326404</td>\n",
       "      <td>105.477932</td>\n",
       "      <td>0.074098</td>\n",
       "    </tr>\n",
       "    <tr>\n",
       "      <th>3</th>\n",
       "      <td>1</td>\n",
       "      <td>56</td>\n",
       "      <td>4.064120e+11</td>\n",
       "      <td>1.948099e+10</td>\n",
       "      <td>0.0</td>\n",
       "      <td>5.026980e+11</td>\n",
       "      <td>4.757400e+11</td>\n",
       "      <td>11375158</td>\n",
       "      <td>72.409200</td>\n",
       "      <td>8722.114258</td>\n",
       "      <td>706524512.0</td>\n",
       "      <td>173709</td>\n",
       "      <td>0.173844</td>\n",
       "      <td>3.626739</td>\n",
       "      <td>105.666541</td>\n",
       "      <td>0.024586</td>\n",
       "    </tr>\n",
       "    <tr>\n",
       "      <th>4</th>\n",
       "      <td>1</td>\n",
       "      <td>76</td>\n",
       "      <td>1.507490e+11</td>\n",
       "      <td>1.948099e+10</td>\n",
       "      <td>18.0</td>\n",
       "      <td>2.062830e+12</td>\n",
       "      <td>1.795700e+12</td>\n",
       "      <td>207833831</td>\n",
       "      <td>55.382403</td>\n",
       "      <td>18364.505860</td>\n",
       "      <td>31329648.0</td>\n",
       "      <td>122850</td>\n",
       "      <td>0.020783</td>\n",
       "      <td>0.160822</td>\n",
       "      <td>114.876093</td>\n",
       "      <td>0.392121</td>\n",
       "    </tr>\n",
       "  </tbody>\n",
       "</table>\n",
       "</div>"
      ],
      "text/plain": [
       "   HSCD  COUNTRYCD  TRADE_COUNTRYCD    TRADE_HSCD  TARIFF_AVG  NY_GDP_MKTP_CD  \\\n",
       "0     1         12     4.605299e+10  1.948099e+10        30.0    1.701630e+11   \n",
       "1     1         36     2.284420e+11  1.948099e+10         0.0    1.329190e+12   \n",
       "2     1         40     1.664750e+11  1.948099e+10         0.0    4.172380e+11   \n",
       "3     1         56     4.064120e+11  1.948099e+10         0.0    5.026980e+11   \n",
       "4     1         76     1.507490e+11  1.948099e+10        18.0    2.062830e+12   \n",
       "\n",
       "   NY_GDP_MKTP_CD_1Y  SP_POP_TOTL  IC_BUS_EASE_DFRN_DB        KMDIST  \\\n",
       "0       1.599950e+11     41389198            46.109810   9954.009766   \n",
       "1       1.208850e+12     24601860            80.223690   8329.652344   \n",
       "2       3.955690e+11      8797566            78.856460   8289.029297   \n",
       "3       4.757400e+11     11375158            72.409200   8722.114258   \n",
       "4       1.795700e+12    207833831            55.382403  18364.505860   \n",
       "\n",
       "   TRADE_HSCD_COUNTRYCD  KR_TRADE_HSCD_COUNTRYCD  item_total_percent  \\\n",
       "0             3416326.0                     7657            0.007418   \n",
       "1           438747025.0                  5294788            0.192061   \n",
       "2           453206357.0                   335818            0.272237   \n",
       "3           706524512.0                   173709            0.173844   \n",
       "4            31329648.0                   122850            0.020783   \n",
       "\n",
       "   item_world_percent  gdp_percent  next_year_percent  \n",
       "0            0.017537   106.355199           0.224130  \n",
       "1            2.252181   109.954916           1.206797  \n",
       "2            2.326404   105.477932           0.074098  \n",
       "3            3.626739   105.666541           0.024586  \n",
       "4            0.160822   114.876093           0.392121  "
      ]
     },
     "execution_count": 11,
     "metadata": {},
     "output_type": "execute_result"
    }
   ],
   "source": [
    "df.head()\n",
    "# df = df.drop('KR_TRADE_HSCD_COUNTRYCD', axis=1).copy()\n",
    "# df = df.drop('TRADE_HSCD_COUNTRYCD', axis=1).copy()"
   ]
  },
  {
   "cell_type": "code",
   "execution_count": 12,
   "id": "7b0e9aac",
   "metadata": {
    "id": "7b0e9aac"
   },
   "outputs": [],
   "source": [
    "df['KMDIST'] = df['KMDIST']/100\n",
    "df = df.drop(columns=['SP_POP_TOTL', 'KR_TRADE_HSCD_COUNTRYCD', 'TRADE_HSCD_COUNTRYCD', 'TRADE_COUNTRYCD', 'TRADE_HSCD', 'NY_GDP_MKTP_CD', 'NY_GDP_MKTP_CD_1Y'])"
   ]
  },
  {
   "cell_type": "code",
   "execution_count": 13,
   "id": "1Ph91oFMrnYE",
   "metadata": {
    "colab": {
     "base_uri": "https://localhost:8080/",
     "height": 226
    },
    "id": "1Ph91oFMrnYE",
    "outputId": "ab142292-ad15-4e05-cf40-c91c1a4dd12f"
   },
   "outputs": [
    {
     "data": {
      "text/html": [
       "<div>\n",
       "<style scoped>\n",
       "    .dataframe tbody tr th:only-of-type {\n",
       "        vertical-align: middle;\n",
       "    }\n",
       "\n",
       "    .dataframe tbody tr th {\n",
       "        vertical-align: top;\n",
       "    }\n",
       "\n",
       "    .dataframe thead th {\n",
       "        text-align: right;\n",
       "    }\n",
       "</style>\n",
       "<table border=\"1\" class=\"dataframe\">\n",
       "  <thead>\n",
       "    <tr style=\"text-align: right;\">\n",
       "      <th></th>\n",
       "      <th>HSCD</th>\n",
       "      <th>COUNTRYCD</th>\n",
       "      <th>TARIFF_AVG</th>\n",
       "      <th>IC_BUS_EASE_DFRN_DB</th>\n",
       "      <th>KMDIST</th>\n",
       "      <th>item_total_percent</th>\n",
       "      <th>item_world_percent</th>\n",
       "      <th>gdp_percent</th>\n",
       "      <th>next_year_percent</th>\n",
       "    </tr>\n",
       "  </thead>\n",
       "  <tbody>\n",
       "    <tr>\n",
       "      <th>0</th>\n",
       "      <td>1</td>\n",
       "      <td>12</td>\n",
       "      <td>30.0</td>\n",
       "      <td>46.109810</td>\n",
       "      <td>99.540098</td>\n",
       "      <td>0.007418</td>\n",
       "      <td>0.017537</td>\n",
       "      <td>106.355199</td>\n",
       "      <td>0.224130</td>\n",
       "    </tr>\n",
       "    <tr>\n",
       "      <th>1</th>\n",
       "      <td>1</td>\n",
       "      <td>36</td>\n",
       "      <td>0.0</td>\n",
       "      <td>80.223690</td>\n",
       "      <td>83.296523</td>\n",
       "      <td>0.192061</td>\n",
       "      <td>2.252181</td>\n",
       "      <td>109.954916</td>\n",
       "      <td>1.206797</td>\n",
       "    </tr>\n",
       "    <tr>\n",
       "      <th>2</th>\n",
       "      <td>1</td>\n",
       "      <td>40</td>\n",
       "      <td>0.0</td>\n",
       "      <td>78.856460</td>\n",
       "      <td>82.890293</td>\n",
       "      <td>0.272237</td>\n",
       "      <td>2.326404</td>\n",
       "      <td>105.477932</td>\n",
       "      <td>0.074098</td>\n",
       "    </tr>\n",
       "    <tr>\n",
       "      <th>3</th>\n",
       "      <td>1</td>\n",
       "      <td>56</td>\n",
       "      <td>0.0</td>\n",
       "      <td>72.409200</td>\n",
       "      <td>87.221143</td>\n",
       "      <td>0.173844</td>\n",
       "      <td>3.626739</td>\n",
       "      <td>105.666541</td>\n",
       "      <td>0.024586</td>\n",
       "    </tr>\n",
       "    <tr>\n",
       "      <th>4</th>\n",
       "      <td>1</td>\n",
       "      <td>76</td>\n",
       "      <td>18.0</td>\n",
       "      <td>55.382403</td>\n",
       "      <td>183.645059</td>\n",
       "      <td>0.020783</td>\n",
       "      <td>0.160822</td>\n",
       "      <td>114.876093</td>\n",
       "      <td>0.392121</td>\n",
       "    </tr>\n",
       "  </tbody>\n",
       "</table>\n",
       "</div>"
      ],
      "text/plain": [
       "   HSCD  COUNTRYCD  TARIFF_AVG  IC_BUS_EASE_DFRN_DB      KMDIST  \\\n",
       "0     1         12        30.0            46.109810   99.540098   \n",
       "1     1         36         0.0            80.223690   83.296523   \n",
       "2     1         40         0.0            78.856460   82.890293   \n",
       "3     1         56         0.0            72.409200   87.221143   \n",
       "4     1         76        18.0            55.382403  183.645059   \n",
       "\n",
       "   item_total_percent  item_world_percent  gdp_percent  next_year_percent  \n",
       "0            0.007418            0.017537   106.355199           0.224130  \n",
       "1            0.192061            2.252181   109.954916           1.206797  \n",
       "2            0.272237            2.326404   105.477932           0.074098  \n",
       "3            0.173844            3.626739   105.666541           0.024586  \n",
       "4            0.020783            0.160822   114.876093           0.392121  "
      ]
     },
     "execution_count": 13,
     "metadata": {},
     "output_type": "execute_result"
    }
   ],
   "source": [
    "df.head()"
   ]
  },
  {
   "cell_type": "code",
   "execution_count": 14,
   "id": "together-departure",
   "metadata": {},
   "outputs": [
    {
     "name": "stderr",
     "output_type": "stream",
     "text": [
      "/home/jihoon/anaconda3/envs/iqn_torch/lib/python3.6/site-packages/pandas/core/indexing.py:670: SettingWithCopyWarning: \n",
      "A value is trying to be set on a copy of a slice from a DataFrame\n",
      "\n",
      "See the caveats in the documentation: https://pandas.pydata.org/pandas-docs/stable/user_guide/indexing.html#returning-a-view-versus-a-copy\n",
      "  iloc._setitem_with_indexer(indexer, value)\n"
     ]
    }
   ],
   "source": [
    "hcsd_uniq = df['COUNTRYCD'].unique()\n",
    "for i in range(len(df['COUNTRYCD'])):\n",
    "  for x in range(len(hcsd_uniq)):\n",
    "    if hcsd_uniq[x] == df['COUNTRYCD'].iloc[i]:\n",
    "      df['COUNTRYCD'].iloc[i] = (x+1)\n",
    "      break\n",
    "df['TARIFF_AVG'] = df['TARIFF_AVG'] / 100\n",
    "df['IC_BUS_EASE_DFRN_DB'] = df['IC_BUS_EASE_DFRN_DB'] / 100\n",
    "df['KMDIST'] = df['KMDIST']/100 # total -> divided 10000\n",
    "df['gdp_percent'] = df['gdp_percent'] / 100\n",
    "\n",
    "\n",
    "######################################################################\n",
    "# df.head()"
   ]
  },
  {
   "cell_type": "code",
   "execution_count": null,
   "id": "selective-honor",
   "metadata": {},
   "outputs": [],
   "source": []
  },
  {
   "cell_type": "code",
   "execution_count": null,
   "id": "requested-juice",
   "metadata": {},
   "outputs": [],
   "source": []
  },
  {
   "cell_type": "code",
   "execution_count": 24,
   "id": "9eb6dc2f",
   "metadata": {
    "colab": {
     "base_uri": "https://localhost:8080/"
    },
    "id": "9eb6dc2f",
    "outputId": "889b87d2-3ce3-4a08-d3e8-96b0c3442cab"
   },
   "outputs": [
    {
     "name": "stdout",
     "output_type": "stream",
     "text": [
      "(20713, 9)\n",
      "12427 4143 4143\n"
     ]
    }
   ],
   "source": [
    "print(df.shape)\n",
    "tr = int(df.shape[0]*6/10) # Train\n",
    "te = int((df.shape[0] - tr)/2) # Test (actually Train)\n",
    "va = df.shape[0] - tr - te # Validation (actually Test)\n",
    "print(tr,te, va)"
   ]
  },
  {
   "cell_type": "code",
   "execution_count": 25,
   "id": "J59QOxiNPQx8",
   "metadata": {
    "id": "J59QOxiNPQx8"
   },
   "outputs": [],
   "source": [
    "import torch\n",
    "import torch.nn as nn\n",
    "import torch.nn.functional as F\n",
    "import torch.optim as optim\n",
    "torch.manual_seed(1015)\n",
    "device = torch.device(\"cuda\")"
   ]
  },
  {
   "cell_type": "code",
   "execution_count": 26,
   "id": "I07wXt8vPU7B",
   "metadata": {
    "id": "I07wXt8vPU7B"
   },
   "outputs": [],
   "source": [
    "import torch\n",
    "from torch.utils.data import TensorDataset # 텐서데이터셋\n",
    "from torch.utils.data import DataLoader # 데이터로더\n",
    "\n",
    "x_train = torch.FloatTensor(df.iloc[:tr+te,:-1].values).to(device)\n",
    "y_train = torch.FloatTensor(df.iloc[:tr+te,-1].values).to(device)\n",
    "x_test = torch.FloatTensor(df.iloc[tr+te:,:-1].values).to(device)\n",
    "y_test = torch.FloatTensor(df.iloc[tr+te:,-1].values).to(device)\n",
    "\n",
    "max(y_train)\n",
    "y_train = torch.reshape(y_train, (-1,1))\n"
   ]
  },
  {
   "cell_type": "code",
   "execution_count": 27,
   "id": "bbx9WLX0PU16",
   "metadata": {
    "colab": {
     "base_uri": "https://localhost:8080/"
    },
    "id": "bbx9WLX0PU16",
    "outputId": "50686dc9-74bc-4da9-e36b-885fa5bf092c"
   },
   "outputs": [
    {
     "name": "stdout",
     "output_type": "stream",
     "text": [
      "torch.Size([16570, 8])\n",
      "torch.Size([16570, 1])\n"
     ]
    }
   ],
   "source": [
    "print(x_train.shape)\n",
    "print(y_train.shape)\n",
    "dataset = TensorDataset(x_train, y_train)\n",
    "dataloader = DataLoader(dataset, batch_size=32, shuffle=True)"
   ]
  },
  {
   "cell_type": "code",
   "execution_count": 28,
   "id": "4jD9Q9k1PUy6",
   "metadata": {
    "colab": {
     "base_uri": "https://localhost:8080/"
    },
    "id": "4jD9Q9k1PUy6",
    "outputId": "54a54da6-db26-43d1-ecb6-0a7f2b00ac37"
   },
   "outputs": [
    {
     "data": {
      "text/plain": [
       "DeepModel(\n",
       "  (basic): BatchNorm1d(8, eps=1e-05, momentum=0.1, affine=True, track_running_stats=True)\n",
       "  (layer1): Linear(in_features=8, out_features=256, bias=True)\n",
       "  (bn1): BatchNorm1d(256, eps=1e-05, momentum=0.1, affine=True, track_running_stats=True)\n",
       "  (layer2): Linear(in_features=256, out_features=64, bias=True)\n",
       "  (bn2): BatchNorm1d(64, eps=1e-05, momentum=0.1, affine=True, track_running_stats=True)\n",
       "  (head): Linear(in_features=64, out_features=1, bias=True)\n",
       ")"
      ]
     },
     "execution_count": 28,
     "metadata": {},
     "output_type": "execute_result"
    }
   ],
   "source": [
    "class Model(nn.Module):\n",
    "  def __init__(self, in_channel, out_channel):\n",
    "    super(Model, self).__init__()\n",
    "    self.bn = nn.BatchNorm1d(in_channel)\n",
    "    self.layer1 = nn.Linear(in_channel, out_channel)\n",
    "  def forward(self, x):\n",
    "    x = x.to(device)\n",
    "    return self.layer1(self.bn(x))\n",
    "\n",
    "class DeepModel(nn.Module):\n",
    "  def __init__(self, in_channel, out_channel):\n",
    "    super(DeepModel, self).__init__()\n",
    "\n",
    "    self.basic = nn.BatchNorm1d(in_channel)\n",
    "    self.layer1 = nn.Linear(in_channel, 256)\n",
    "    self.bn1 = nn.BatchNorm1d(256)\n",
    "    self.layer2 = nn.Linear(256, 64)\n",
    "    self.bn2 = nn.BatchNorm1d(64)\n",
    "    self.head = nn.Linear(64, out_channel)\n",
    "\n",
    "  def forward(self, x):\n",
    "    x = x.to(device)\n",
    "    x = self.basic(x)\n",
    "    x = F.relu(self.bn1(self.layer1(x)))\n",
    "    x = F.relu(self.bn2(self.layer2(x)))\n",
    "    \n",
    "    return self.head(x)\n",
    "\n",
    "\n",
    "# model = nn.Linear(9,1).to(device)\n",
    "deepmodel = DeepModel(8, 1).to(device)\n",
    "deepmodel.eval()"
   ]
  },
  {
   "cell_type": "code",
   "execution_count": 29,
   "id": "VRFgwTutQSAF",
   "metadata": {
    "id": "VRFgwTutQSAF"
   },
   "outputs": [],
   "source": [
    "optimizer = torch.optim.Adam(deepmodel.parameters(), lr=1e-5)"
   ]
  },
  {
   "cell_type": "code",
   "execution_count": 30,
   "id": "CDhC3L6lTHu8",
   "metadata": {
    "colab": {
     "base_uri": "https://localhost:8080/"
    },
    "id": "CDhC3L6lTHu8",
    "outputId": "949195db-ee3b-4866-f9df-4a750d9af87e",
    "scrolled": true
   },
   "outputs": [
    {
     "name": "stderr",
     "output_type": "stream",
     "text": [
      "/home/jihoon/anaconda3/envs/iqn_torch/lib/python3.6/site-packages/ipykernel_launcher.py:6: UserWarning: To copy construct from a tensor, it is recommended to use sourceTensor.clone().detach() or sourceTensor.clone().detach().requires_grad_(True), rather than torch.tensor(sourceTensor).\n",
      "  \n"
     ]
    },
    {
     "ename": "RuntimeError",
     "evalue": "multi-target not supported at /pytorch/aten/src/THCUNN/generic/ClassNLLCriterion.cu:15",
     "output_type": "error",
     "traceback": [
      "\u001b[0;31m---------------------------------------------------------------------------\u001b[0m",
      "\u001b[0;31mRuntimeError\u001b[0m                              Traceback (most recent call last)",
      "\u001b[0;32m<ipython-input-30-e3a4c004006e>\u001b[0m in \u001b[0;36m<module>\u001b[0;34m\u001b[0m\n\u001b[1;32m      6\u001b[0m     \u001b[0my_train\u001b[0m \u001b[0;34m=\u001b[0m \u001b[0mtorch\u001b[0m\u001b[0;34m.\u001b[0m\u001b[0mtensor\u001b[0m\u001b[0;34m(\u001b[0m\u001b[0my_train\u001b[0m\u001b[0;34m,\u001b[0m \u001b[0mdtype\u001b[0m\u001b[0;34m=\u001b[0m\u001b[0mtorch\u001b[0m\u001b[0;34m.\u001b[0m\u001b[0mlong\u001b[0m\u001b[0;34m,\u001b[0m \u001b[0mdevice\u001b[0m\u001b[0;34m=\u001b[0m\u001b[0mdevice\u001b[0m\u001b[0;34m)\u001b[0m\u001b[0;34m\u001b[0m\u001b[0;34m\u001b[0m\u001b[0m\n\u001b[1;32m      7\u001b[0m     \u001b[0mpred\u001b[0m \u001b[0;34m=\u001b[0m \u001b[0mdeepmodel\u001b[0m\u001b[0;34m(\u001b[0m\u001b[0mx_train\u001b[0m\u001b[0;34m)\u001b[0m\u001b[0;34m.\u001b[0m\u001b[0mto\u001b[0m\u001b[0;34m(\u001b[0m\u001b[0mdevice\u001b[0m\u001b[0;34m)\u001b[0m\u001b[0;34m\u001b[0m\u001b[0;34m\u001b[0m\u001b[0m\n\u001b[0;32m----> 8\u001b[0;31m     \u001b[0mcost\u001b[0m \u001b[0;34m=\u001b[0m \u001b[0mF\u001b[0m\u001b[0;34m.\u001b[0m\u001b[0mcross_entropy\u001b[0m\u001b[0;34m(\u001b[0m\u001b[0mpred\u001b[0m\u001b[0;34m,\u001b[0m \u001b[0my_train\u001b[0m\u001b[0;34m)\u001b[0m\u001b[0;34m\u001b[0m\u001b[0;34m\u001b[0m\u001b[0m\n\u001b[0m\u001b[1;32m      9\u001b[0m \u001b[0;34m\u001b[0m\u001b[0m\n\u001b[1;32m     10\u001b[0m     \u001b[0moptimizer\u001b[0m\u001b[0;34m.\u001b[0m\u001b[0mzero_grad\u001b[0m\u001b[0;34m(\u001b[0m\u001b[0;34m)\u001b[0m\u001b[0;34m\u001b[0m\u001b[0;34m\u001b[0m\u001b[0m\n",
      "\u001b[0;32m~/anaconda3/envs/iqn_torch/lib/python3.6/site-packages/torch/nn/functional.py\u001b[0m in \u001b[0;36mcross_entropy\u001b[0;34m(input, target, weight, size_average, ignore_index, reduce, reduction)\u001b[0m\n\u001b[1;32m   2466\u001b[0m     \u001b[0;32mif\u001b[0m \u001b[0msize_average\u001b[0m \u001b[0;32mis\u001b[0m \u001b[0;32mnot\u001b[0m \u001b[0;32mNone\u001b[0m \u001b[0;32mor\u001b[0m \u001b[0mreduce\u001b[0m \u001b[0;32mis\u001b[0m \u001b[0;32mnot\u001b[0m \u001b[0;32mNone\u001b[0m\u001b[0;34m:\u001b[0m\u001b[0;34m\u001b[0m\u001b[0;34m\u001b[0m\u001b[0m\n\u001b[1;32m   2467\u001b[0m         \u001b[0mreduction\u001b[0m \u001b[0;34m=\u001b[0m \u001b[0m_Reduction\u001b[0m\u001b[0;34m.\u001b[0m\u001b[0mlegacy_get_string\u001b[0m\u001b[0;34m(\u001b[0m\u001b[0msize_average\u001b[0m\u001b[0;34m,\u001b[0m \u001b[0mreduce\u001b[0m\u001b[0;34m)\u001b[0m\u001b[0;34m\u001b[0m\u001b[0;34m\u001b[0m\u001b[0m\n\u001b[0;32m-> 2468\u001b[0;31m     \u001b[0;32mreturn\u001b[0m \u001b[0mnll_loss\u001b[0m\u001b[0;34m(\u001b[0m\u001b[0mlog_softmax\u001b[0m\u001b[0;34m(\u001b[0m\u001b[0minput\u001b[0m\u001b[0;34m,\u001b[0m \u001b[0;36m1\u001b[0m\u001b[0;34m)\u001b[0m\u001b[0;34m,\u001b[0m \u001b[0mtarget\u001b[0m\u001b[0;34m,\u001b[0m \u001b[0mweight\u001b[0m\u001b[0;34m,\u001b[0m \u001b[0;32mNone\u001b[0m\u001b[0;34m,\u001b[0m \u001b[0mignore_index\u001b[0m\u001b[0;34m,\u001b[0m \u001b[0;32mNone\u001b[0m\u001b[0;34m,\u001b[0m \u001b[0mreduction\u001b[0m\u001b[0;34m)\u001b[0m\u001b[0;34m\u001b[0m\u001b[0;34m\u001b[0m\u001b[0m\n\u001b[0m\u001b[1;32m   2469\u001b[0m \u001b[0;34m\u001b[0m\u001b[0m\n\u001b[1;32m   2470\u001b[0m \u001b[0;34m\u001b[0m\u001b[0m\n",
      "\u001b[0;32m~/anaconda3/envs/iqn_torch/lib/python3.6/site-packages/torch/nn/functional.py\u001b[0m in \u001b[0;36mnll_loss\u001b[0;34m(input, target, weight, size_average, ignore_index, reduce, reduction)\u001b[0m\n\u001b[1;32m   2262\u001b[0m                          .format(input.size(0), target.size(0)))\n\u001b[1;32m   2263\u001b[0m     \u001b[0;32mif\u001b[0m \u001b[0mdim\u001b[0m \u001b[0;34m==\u001b[0m \u001b[0;36m2\u001b[0m\u001b[0;34m:\u001b[0m\u001b[0;34m\u001b[0m\u001b[0;34m\u001b[0m\u001b[0m\n\u001b[0;32m-> 2264\u001b[0;31m         \u001b[0mret\u001b[0m \u001b[0;34m=\u001b[0m \u001b[0mtorch\u001b[0m\u001b[0;34m.\u001b[0m\u001b[0m_C\u001b[0m\u001b[0;34m.\u001b[0m\u001b[0m_nn\u001b[0m\u001b[0;34m.\u001b[0m\u001b[0mnll_loss\u001b[0m\u001b[0;34m(\u001b[0m\u001b[0minput\u001b[0m\u001b[0;34m,\u001b[0m \u001b[0mtarget\u001b[0m\u001b[0;34m,\u001b[0m \u001b[0mweight\u001b[0m\u001b[0;34m,\u001b[0m \u001b[0m_Reduction\u001b[0m\u001b[0;34m.\u001b[0m\u001b[0mget_enum\u001b[0m\u001b[0;34m(\u001b[0m\u001b[0mreduction\u001b[0m\u001b[0;34m)\u001b[0m\u001b[0;34m,\u001b[0m \u001b[0mignore_index\u001b[0m\u001b[0;34m)\u001b[0m\u001b[0;34m\u001b[0m\u001b[0;34m\u001b[0m\u001b[0m\n\u001b[0m\u001b[1;32m   2265\u001b[0m     \u001b[0;32melif\u001b[0m \u001b[0mdim\u001b[0m \u001b[0;34m==\u001b[0m \u001b[0;36m4\u001b[0m\u001b[0;34m:\u001b[0m\u001b[0;34m\u001b[0m\u001b[0;34m\u001b[0m\u001b[0m\n\u001b[1;32m   2266\u001b[0m         \u001b[0mret\u001b[0m \u001b[0;34m=\u001b[0m \u001b[0mtorch\u001b[0m\u001b[0;34m.\u001b[0m\u001b[0m_C\u001b[0m\u001b[0;34m.\u001b[0m\u001b[0m_nn\u001b[0m\u001b[0;34m.\u001b[0m\u001b[0mnll_loss2d\u001b[0m\u001b[0;34m(\u001b[0m\u001b[0minput\u001b[0m\u001b[0;34m,\u001b[0m \u001b[0mtarget\u001b[0m\u001b[0;34m,\u001b[0m \u001b[0mweight\u001b[0m\u001b[0;34m,\u001b[0m \u001b[0m_Reduction\u001b[0m\u001b[0;34m.\u001b[0m\u001b[0mget_enum\u001b[0m\u001b[0;34m(\u001b[0m\u001b[0mreduction\u001b[0m\u001b[0;34m)\u001b[0m\u001b[0;34m,\u001b[0m \u001b[0mignore_index\u001b[0m\u001b[0;34m)\u001b[0m\u001b[0;34m\u001b[0m\u001b[0;34m\u001b[0m\u001b[0m\n",
      "\u001b[0;31mRuntimeError\u001b[0m: multi-target not supported at /pytorch/aten/src/THCUNN/generic/ClassNLLCriterion.cu:15"
     ]
    }
   ],
   "source": [
    "n_epochs = 300\n",
    "\n",
    "for epoch in range(n_epochs):\n",
    "  for batch_idx, samples in enumerate(dataloader):\n",
    "    x_train, y_train = samples\n",
    "\n",
    "    pred = deepmodel(x_train).to(device)\n",
    "    cost = F.mse_loss(pred, y_train)\n",
    "\n",
    "    optimizer.zero_grad()\n",
    "    cost.backward()\n",
    "    optimizer.step()\n",
    "    print(\"Ep {}/{}  Batch {}/{}  cost : {}\".format(epoch, n_epochs, batch_idx+1, len(dataloader), cost.item()))"
   ]
  },
  {
   "cell_type": "code",
   "execution_count": null,
   "id": "UB2NgUAbuKYl",
   "metadata": {
    "id": "UB2NgUAbuKYl"
   },
   "outputs": [],
   "source": [
    "pred_y = deepmodel(x_test)"
   ]
  },
  {
   "cell_type": "code",
   "execution_count": null,
   "id": "dpIr_AnwuKWQ",
   "metadata": {
    "colab": {
     "base_uri": "https://localhost:8080/"
    },
    "id": "dpIr_AnwuKWQ",
    "outputId": "cb0e81d0-ff06-4cef-cee6-fe22bc5cee28"
   },
   "outputs": [],
   "source": [
    "torch.mean(torch.sqrt((pred_y - y_test) ** 2))"
   ]
  },
  {
   "cell_type": "code",
   "execution_count": null,
   "id": "5iEDJ_RyuKUb",
   "metadata": {
    "id": "5iEDJ_RyuKUb"
   },
   "outputs": [],
   "source": [
    "### FIN"
   ]
  },
  {
   "cell_type": "code",
   "execution_count": null,
   "id": "mediterranean-pixel",
   "metadata": {},
   "outputs": [],
   "source": [
    "torch.save(deepmodel.state_dict(), path+\"cross_entropy.pth\")"
   ]
  },
  {
   "cell_type": "code",
   "execution_count": null,
   "id": "recreational-season",
   "metadata": {},
   "outputs": [],
   "source": [
    "##REAL FIN"
   ]
  },
  {
   "cell_type": "code",
   "execution_count": null,
   "id": "animated-divide",
   "metadata": {},
   "outputs": [],
   "source": [
    "##REAL FIN"
   ]
  },
  {
   "cell_type": "code",
   "execution_count": null,
   "id": "greek-lending",
   "metadata": {},
   "outputs": [],
   "source": [
    "######################REAL FIN############################"
   ]
  },
  {
   "cell_type": "code",
   "execution_count": null,
   "id": "expressed-intent",
   "metadata": {},
   "outputs": [],
   "source": []
  },
  {
   "cell_type": "code",
   "execution_count": null,
   "id": "superior-burton",
   "metadata": {},
   "outputs": [],
   "source": []
  },
  {
   "cell_type": "code",
   "execution_count": null,
   "id": "loving-ranking",
   "metadata": {},
   "outputs": [],
   "source": []
  },
  {
   "cell_type": "code",
   "execution_count": null,
   "id": "romantic-organ",
   "metadata": {},
   "outputs": [],
   "source": [
    "abs_pred_y = torch.abs(pred_y)"
   ]
  },
  {
   "cell_type": "code",
   "execution_count": null,
   "id": "signed-ending",
   "metadata": {},
   "outputs": [],
   "source": [
    "torch.mean(torch.sqrt((abs_pred_y - y_test) ** 2))"
   ]
  },
  {
   "cell_type": "code",
   "execution_count": null,
   "id": "piano-bristol",
   "metadata": {},
   "outputs": [],
   "source": []
  },
  {
   "cell_type": "code",
   "execution_count": null,
   "id": "tender-amount",
   "metadata": {},
   "outputs": [],
   "source": []
  },
  {
   "cell_type": "code",
   "execution_count": null,
   "id": "consistent-insulin",
   "metadata": {},
   "outputs": [],
   "source": [
    "df.head()"
   ]
  },
  {
   "cell_type": "code",
   "execution_count": null,
   "id": "royal-accreditation",
   "metadata": {},
   "outputs": [],
   "source": [
    "df['KMDIST'].min()"
   ]
  },
  {
   "cell_type": "code",
   "execution_count": null,
   "id": "rapid-number",
   "metadata": {},
   "outputs": [],
   "source": [
    "y_test.max()"
   ]
  },
  {
   "cell_type": "code",
   "execution_count": null,
   "id": "strategic-subdivision",
   "metadata": {},
   "outputs": [],
   "source": [
    "y_test.reshape(-1,1)"
   ]
  },
  {
   "cell_type": "code",
   "execution_count": null,
   "id": "super-interference",
   "metadata": {},
   "outputs": [],
   "source": [
    "pred_y.max()"
   ]
  },
  {
   "cell_type": "code",
   "execution_count": null,
   "id": "desirable-arlington",
   "metadata": {},
   "outputs": [],
   "source": []
  },
  {
   "cell_type": "code",
   "execution_count": null,
   "id": "duplicate-raise",
   "metadata": {},
   "outputs": [],
   "source": []
  },
  {
   "cell_type": "code",
   "execution_count": null,
   "id": "plain-efficiency",
   "metadata": {},
   "outputs": [],
   "source": [
    "optimizer = torch.optim.Adam(deepmodel.parameters(), lr=1e-7)\n",
    "n_epochs = 6000\n",
    "\n",
    "for epoch in range(n_epochs):\n",
    "  for batch_idx, samples in enumerate(dataloader):\n",
    "    x_train, y_train = samples\n",
    "\n",
    "    pred = deepmodel(x_train).to(device)\n",
    "    cost = F.mse_loss(pred, y_train)\n",
    "\n",
    "    optimizer.zero_grad()\n",
    "    cost.backward()\n",
    "    optimizer.step()\n",
    "    print(\"Ep {}/{}  Batch {}/{}  cost : {}\".format(epoch, n_epochs, batch_idx+1, len(dataloader), cost.item()))"
   ]
  },
  {
   "cell_type": "code",
   "execution_count": null,
   "id": "minute-prime",
   "metadata": {},
   "outputs": [],
   "source": [
    "pred_y = deepmodel(x_test)"
   ]
  },
  {
   "cell_type": "code",
   "execution_count": null,
   "id": "intelligent-theta",
   "metadata": {},
   "outputs": [],
   "source": [
    "torch.mean((pred_y - y_test) ** 2)"
   ]
  },
  {
   "cell_type": "code",
   "execution_count": null,
   "id": "presidential-branch",
   "metadata": {},
   "outputs": [],
   "source": []
  },
  {
   "cell_type": "code",
   "execution_count": null,
   "id": "julian-spice",
   "metadata": {},
   "outputs": [],
   "source": []
  },
  {
   "cell_type": "code",
   "execution_count": null,
   "id": "DFq_fbQ72GS_",
   "metadata": {
    "colab": {
     "base_uri": "https://localhost:8080/"
    },
    "id": "DFq_fbQ72GS_",
    "outputId": "ebf1ded3-f84f-4b7e-ee89-c9c52835c64a"
   },
   "outputs": [],
   "source": [
    "x_test.shape"
   ]
  },
  {
   "cell_type": "code",
   "execution_count": null,
   "id": "yPVpjcJA2GQ7",
   "metadata": {
    "colab": {
     "base_uri": "https://localhost:8080/"
    },
    "id": "yPVpjcJA2GQ7",
    "outputId": "32d0e36f-4952-4486-f881-9b9e1efbfa48"
   },
   "outputs": [],
   "source": [
    "y_test.reshape(-1,1)"
   ]
  },
  {
   "cell_type": "code",
   "execution_count": null,
   "id": "y3j599S22GOL",
   "metadata": {
    "colab": {
     "base_uri": "https://localhost:8080/"
    },
    "id": "y3j599S22GOL",
    "outputId": "6afbe187-b2ed-4180-a9e4-fdf723c5137f"
   },
   "outputs": [],
   "source": [
    "pred_y"
   ]
  },
  {
   "cell_type": "code",
   "execution_count": null,
   "id": "M2bVUYqO2GLi",
   "metadata": {
    "id": "M2bVUYqO2GLi"
   },
   "outputs": [],
   "source": []
  },
  {
   "cell_type": "code",
   "execution_count": null,
   "id": "u5lcC8Yn2GJm",
   "metadata": {
    "id": "u5lcC8Yn2GJm"
   },
   "outputs": [],
   "source": []
  },
  {
   "cell_type": "code",
   "execution_count": null,
   "id": "ZeLKUxukz_NY",
   "metadata": {
    "colab": {
     "base_uri": "https://localhost:8080/",
     "height": 383
    },
    "id": "ZeLKUxukz_NY",
    "outputId": "3813c35d-3d01-4135-ae0f-657ee79bf81b"
   },
   "outputs": [],
   "source": [
    "df.iloc[tr+te:tr+te + 10]"
   ]
  },
  {
   "cell_type": "code",
   "execution_count": null,
   "id": "o3-gIWk5z_LF",
   "metadata": {
    "id": "o3-gIWk5z_LF"
   },
   "outputs": [],
   "source": [
    "df['KMDIST']/100"
   ]
  },
  {
   "cell_type": "code",
   "execution_count": null,
   "id": "sVP3H-Fcz_Ik",
   "metadata": {
    "id": "sVP3H-Fcz_Ik"
   },
   "outputs": [],
   "source": []
  },
  {
   "cell_type": "code",
   "execution_count": null,
   "id": "nXDOFfIKz_Gi",
   "metadata": {
    "id": "nXDOFfIKz_Gi"
   },
   "outputs": [],
   "source": []
  },
  {
   "cell_type": "code",
   "execution_count": null,
   "id": "aplo89x8z_D7",
   "metadata": {
    "id": "aplo89x8z_D7"
   },
   "outputs": [],
   "source": []
  },
  {
   "cell_type": "code",
   "execution_count": null,
   "id": "0Xgapypfz_Bk",
   "metadata": {
    "id": "0Xgapypfz_Bk"
   },
   "outputs": [],
   "source": []
  },
  {
   "cell_type": "code",
   "execution_count": null,
   "id": "mMPVYxB8uKRp",
   "metadata": {
    "colab": {
     "base_uri": "https://localhost:8080/"
    },
    "id": "mMPVYxB8uKRp",
    "outputId": "09c38109-33e2-491e-91fd-5b94f8eff195"
   },
   "outputs": [],
   "source": [
    "pred_y.min()"
   ]
  },
  {
   "cell_type": "code",
   "execution_count": null,
   "id": "aqiJv6W-uKPJ",
   "metadata": {
    "colab": {
     "base_uri": "https://localhost:8080/"
    },
    "id": "aqiJv6W-uKPJ",
    "outputId": "3a6995ee-d3d1-47c8-dc61-05b0f38f8596"
   },
   "outputs": [],
   "source": [
    "x_test[:10]"
   ]
  },
  {
   "cell_type": "code",
   "execution_count": null,
   "id": "UeGAL0H8Iwe9",
   "metadata": {
    "colab": {
     "base_uri": "https://localhost:8080/"
    },
    "id": "UeGAL0H8Iwe9",
    "outputId": "42faff58-1d2b-4eaa-f946-928c62bcc3e5"
   },
   "outputs": [],
   "source": [
    "pd.options.display.float_format = '{:.5f}'.format\n",
    "x_train"
   ]
  },
  {
   "cell_type": "code",
   "execution_count": null,
   "id": "DVI1Ni80IwbO",
   "metadata": {
    "colab": {
     "base_uri": "https://localhost:8080/"
    },
    "id": "DVI1Ni80IwbO",
    "outputId": "8eab665b-a0ed-4615-b6ef-ca4d99299136"
   },
   "outputs": [],
   "source": [
    "class Test(nn.Module):\n",
    "  def __init__(self, in_channel, out_channel):\n",
    "    super(Test, self).__init__()\n",
    "    self.bn = nn.BatchNorm1d(in_channel)\n",
    "    self.layer1 = nn.Linear(in_channel, out_channel)\n",
    "  def forward(self, x):\n",
    "    x = x.to(device)\n",
    "    return self.bn(x)\n",
    "\n",
    "  \n",
    "m = Test(9,1).to(device)\n",
    "m(x_train)"
   ]
  },
  {
   "cell_type": "code",
   "execution_count": null,
   "id": "0urL3LfBIwYs",
   "metadata": {
    "colab": {
     "base_uri": "https://localhost:8080/",
     "height": 101
    },
    "id": "0urL3LfBIwYs",
    "outputId": "ac2424a2-71d5-496e-b4ea-1e82b9ca0610"
   },
   "outputs": [],
   "source": [
    "df[df['percent'] == df['percent'].min()]"
   ]
  },
  {
   "cell_type": "code",
   "execution_count": null,
   "id": "esZkpCn9IwWc",
   "metadata": {
    "id": "esZkpCn9IwWc"
   },
   "outputs": [],
   "source": []
  },
  {
   "cell_type": "code",
   "execution_count": null,
   "id": "M63hE-uSTHsz",
   "metadata": {
    "id": "M63hE-uSTHsz"
   },
   "outputs": [],
   "source": [
    "pred_y = deepmodel(x_test)"
   ]
  },
  {
   "cell_type": "code",
   "execution_count": null,
   "id": "oy0xyj6jTHqh",
   "metadata": {
    "colab": {
     "base_uri": "https://localhost:8080/"
    },
    "id": "oy0xyj6jTHqh",
    "outputId": "e4353918-7a47-40a7-c329-ee6672ca7166"
   },
   "outputs": [],
   "source": [
    "torch.mean((pred_y - y_test) ** 2)"
   ]
  },
  {
   "cell_type": "code",
   "execution_count": null,
   "id": "VpdCeiZ4vY9Z",
   "metadata": {
    "id": "VpdCeiZ4vY9Z"
   },
   "outputs": [],
   "source": []
  },
  {
   "cell_type": "code",
   "execution_count": null,
   "id": "7-ed4ZePvY60",
   "metadata": {
    "id": "7-ed4ZePvY60"
   },
   "outputs": [],
   "source": []
  },
  {
   "cell_type": "code",
   "execution_count": null,
   "id": "x-qh8CqJvY4p",
   "metadata": {
    "id": "x-qh8CqJvY4p"
   },
   "outputs": [],
   "source": []
  },
  {
   "cell_type": "code",
   "execution_count": null,
   "id": "zdnNIT3zvY2W",
   "metadata": {
    "id": "zdnNIT3zvY2W"
   },
   "outputs": [],
   "source": []
  },
  {
   "cell_type": "code",
   "execution_count": null,
   "id": "kNJOPgF-vY0J",
   "metadata": {
    "id": "kNJOPgF-vY0J"
   },
   "outputs": [],
   "source": []
  },
  {
   "cell_type": "code",
   "execution_count": null,
   "id": "CPTUbx8HvYx5",
   "metadata": {
    "id": "CPTUbx8HvYx5"
   },
   "outputs": [],
   "source": []
  },
  {
   "cell_type": "code",
   "execution_count": null,
   "id": "FpRNwHsPvYvi",
   "metadata": {
    "id": "FpRNwHsPvYvi"
   },
   "outputs": [],
   "source": []
  },
  {
   "cell_type": "code",
   "execution_count": null,
   "id": "nqnwFZCKTHmG",
   "metadata": {
    "colab": {
     "base_uri": "https://localhost:8080/",
     "height": 206
    },
    "id": "nqnwFZCKTHmG",
    "outputId": "6d174ac2-fdeb-4e9f-988e-28322c3338fe"
   },
   "outputs": [],
   "source": [
    "df.head()"
   ]
  },
  {
   "cell_type": "code",
   "execution_count": null,
   "id": "KQxj_YtOTHkQ",
   "metadata": {
    "colab": {
     "base_uri": "https://localhost:8080/"
    },
    "id": "KQxj_YtOTHkQ",
    "outputId": "487ea65f-c36d-4399-b4b7-ba4b08920ba9"
   },
   "outputs": [],
   "source": [
    "model(new_var)"
   ]
  },
  {
   "cell_type": "code",
   "execution_count": null,
   "id": "hZeaPkyUTHeh",
   "metadata": {
    "colab": {
     "base_uri": "https://localhost:8080/"
    },
    "id": "hZeaPkyUTHeh",
    "outputId": "2d1a0bff-7584-4c4a-b968-dfca1f0abfa4"
   },
   "outputs": [],
   "source": [
    "import torch\n",
    "\n",
    "x_train = torch.FloatTensor(df.iloc[:tr+te,:-1].values)\n",
    "y_train = torch.FloatTensor(df.iloc[:tr+te,-1].values)\n",
    "x_test = torch.FloatTensor(df.iloc[tr+te:,:-1].values)\n",
    "y_test = torch.FloatTensor(df.iloc[tr+te:,-1].values)\n",
    "\n",
    "max(y_train)\n",
    "# y_train = torch.reshape(y_train, (-1,1))\n"
   ]
  },
  {
   "cell_type": "code",
   "execution_count": null,
   "id": "XtzTA1QeQR97",
   "metadata": {
    "colab": {
     "base_uri": "https://localhost:8080/",
     "height": 443
    },
    "id": "XtzTA1QeQR97",
    "outputId": "e5730ab5-06de-409c-f2c2-b3625370e752"
   },
   "outputs": [],
   "source": [
    "W = torch.zeros((9,1), requires_grad=True)\n",
    "b = torch.zeros(1, requires_grad=True)\n",
    "optimizer = optim.SGD([W,b], lr=1e-5)\n",
    "\n",
    "epochs = 1000\n",
    "for epoch in range(epochs):\n",
    "  hypothesis = (x_train.matmul(W) + b)\n",
    "  cost = torch.mean((hypothesis - y_train) ** 2)\n",
    "\n",
    "  optimizer.zero_grad()\n",
    "  cost.backward()\n",
    "  optimizer.step()\n",
    "  if epoch % 50 == 0:\n",
    "    print(\"Ep {} cost : {}\".format(epoch, cost.item()))\n"
   ]
  },
  {
   "cell_type": "code",
   "execution_count": null,
   "id": "vcyXepGYQR7j",
   "metadata": {
    "id": "vcyXepGYQR7j"
   },
   "outputs": [],
   "source": []
  },
  {
   "cell_type": "code",
   "execution_count": null,
   "id": "II8ZQxykQR5S",
   "metadata": {
    "id": "II8ZQxykQR5S"
   },
   "outputs": [],
   "source": []
  },
  {
   "cell_type": "code",
   "execution_count": null,
   "id": "wIF-xH1EQR2y",
   "metadata": {
    "id": "wIF-xH1EQR2y"
   },
   "outputs": [],
   "source": []
  },
  {
   "cell_type": "code",
   "execution_count": null,
   "id": "CWJOqpNmQR0i",
   "metadata": {
    "id": "CWJOqpNmQR0i"
   },
   "outputs": [],
   "source": []
  },
  {
   "cell_type": "code",
   "execution_count": null,
   "id": "pKuk3JUOQRyB",
   "metadata": {
    "id": "pKuk3JUOQRyB"
   },
   "outputs": [],
   "source": []
  },
  {
   "cell_type": "code",
   "execution_count": null,
   "id": "qLeEnaFCPUaU",
   "metadata": {
    "id": "qLeEnaFCPUaU"
   },
   "outputs": [],
   "source": []
  },
  {
   "cell_type": "code",
   "execution_count": null,
   "id": "e403b135",
   "metadata": {
    "id": "e403b135"
   },
   "outputs": [],
   "source": [
    "import numpy as np\n",
    "import tensorflow as tf\n",
    "from tensorflow import keras\n",
    "from tensorflow.keras import layers"
   ]
  },
  {
   "cell_type": "code",
   "execution_count": null,
   "id": "322f3ccb",
   "metadata": {
    "id": "322f3ccb"
   },
   "outputs": [],
   "source": [
    "batch_size = 16\n",
    "# Each MNIST image batch is a tensor of shape (batch_size, 28, 28).\n",
    "# Each input sequence will be of size (28, 28) (height is treated like time).\n",
    "input_dim = 3\n",
    "\n",
    "units = 16\n",
    "output_size = 3358  # labels are from 0 to 9\n",
    "\n",
    "# Build the RNN model\n",
    "def build_model(allow_cudnn_kernel=True):\n",
    "    # CuDNN is only available at the layer level, and not at the cell level.\n",
    "    # This means `LSTM(units)` will use the CuDNN kernel,\n",
    "    # while RNN(LSTMCell(units)) will run on non-CuDNN kernel.\n",
    "    if allow_cudnn_kernel:\n",
    "        # The LSTM layer with default options uses CuDNN.\n",
    "        lstm_layer = keras.layers.LSTM(units, input_shape=(None, input_dim), activation='relu')\n",
    "    else:\n",
    "        # Wrapping a LSTMCell in a RNN layer will not use CuDNN.\n",
    "        lstm_layer = keras.layers.RNN(\n",
    "            keras.layers.LSTMCell(units), input_shape=(None, input_dim)\n",
    "        )\n",
    "    model = keras.models.Sequential(\n",
    "        [\n",
    "            lstm_layer,\n",
    "            keras.layers.BatchNormalization(),\n",
    "            keras.layers.Dense(output_size),\n",
    "        ]\n",
    "    )\n",
    "    return model"
   ]
  },
  {
   "cell_type": "code",
   "execution_count": null,
   "id": "58680cd9",
   "metadata": {
    "colab": {
     "base_uri": "https://localhost:8080/",
     "height": 206
    },
    "id": "58680cd9",
    "outputId": "3b33bbdf-36e6-4d7d-cdc0-5698013fd368"
   },
   "outputs": [],
   "source": [
    "df_perc = df[\"percent\"].copy()\n",
    "def mean_norm(df_input):\n",
    "    return df_input.apply(lambda x: (x-x.mean())/x.std(), axis=0)\n",
    "df_back = df.copy()\n",
    "df = mean_norm(df)\n",
    "df[\"percent\"] = df_perc\n",
    "df.head()"
   ]
  },
  {
   "cell_type": "code",
   "execution_count": null,
   "id": "31421cd2",
   "metadata": {
    "colab": {
     "base_uri": "https://localhost:8080/"
    },
    "id": "31421cd2",
    "outputId": "bf0a1411-a872-428e-ccdb-76e230c36b14"
   },
   "outputs": [],
   "source": [
    "import torch\n",
    "\n",
    "x_train = np.array(df.iloc[:tr+te,:-1].values)\n",
    "y_train = np.array(df.iloc[:tr+te,-1].values)\n",
    "x_test = np.array(df.iloc[tr+te:,:-1].values)\n",
    "y_test = np.array(df.iloc[tr+te:,-1].values)\n",
    "\n",
    "max(y_train)"
   ]
  },
  {
   "cell_type": "code",
   "execution_count": null,
   "id": "e522a870",
   "metadata": {
    "id": "e522a870"
   },
   "outputs": [],
   "source": [
    "## Linear Test Model"
   ]
  },
  {
   "cell_type": "code",
   "execution_count": null,
   "id": "b7230123",
   "metadata": {
    "id": "b7230123"
   },
   "outputs": [],
   "source": [
    "import torch\n",
    "import torch.nn as nn\n",
    "import torch.nn.functional as F"
   ]
  },
  {
   "cell_type": "code",
   "execution_count": null,
   "id": "f469f226",
   "metadata": {
    "colab": {
     "base_uri": "https://localhost:8080/"
    },
    "id": "f469f226",
    "outputId": "c35fbd42-8def-4198-e8c7-6d6a29ca9a1d"
   },
   "outputs": [],
   "source": [
    "torch.manual_seed(1)"
   ]
  },
  {
   "cell_type": "code",
   "execution_count": null,
   "id": "bc644a2f",
   "metadata": {
    "colab": {
     "base_uri": "https://localhost:8080/"
    },
    "id": "bc644a2f",
    "outputId": "c1073625-d9ad-400e-8269-0fbaf24d9bb6"
   },
   "outputs": [],
   "source": [
    "x_train.shape"
   ]
  },
  {
   "cell_type": "code",
   "execution_count": null,
   "id": "8Uht6aEQ3rYf",
   "metadata": {
    "colab": {
     "base_uri": "https://localhost:8080/"
    },
    "id": "8Uht6aEQ3rYf",
    "outputId": "01bd0cc4-b81c-4ebf-d01f-31a73334f629"
   },
   "outputs": [],
   "source": [
    "x_train[0]"
   ]
  },
  {
   "cell_type": "code",
   "execution_count": null,
   "id": "143c1e08",
   "metadata": {
    "id": "143c1e08"
   },
   "outputs": [],
   "source": [
    "model = nn.Linear(x_train.shape[1], 1)"
   ]
  },
  {
   "cell_type": "code",
   "execution_count": null,
   "id": "e9049e19",
   "metadata": {
    "id": "e9049e19"
   },
   "outputs": [],
   "source": [
    "optimizer = torch.optim.SGD(model.parameters(), lr=1e-5)\n",
    "epochs = 20000"
   ]
  },
  {
   "cell_type": "code",
   "execution_count": null,
   "id": "b3246744",
   "metadata": {
    "colab": {
     "base_uri": "https://localhost:8080/"
    },
    "id": "b3246744",
    "outputId": "4c4ac85f-5f3f-44c4-915f-ebc3392ac184",
    "scrolled": true
   },
   "outputs": [],
   "source": [
    "x_train = torch.FloatTensor(x_train)\n",
    "y_train = torch.FloatTensor(y_train)\n",
    "\n",
    "y_train = y_train.reshape(-1,1)\n",
    "\n",
    "for epoch in range(epochs+1):\n",
    "    pred = model(x_train)\n",
    "    \n",
    "    cost = F.mse_loss(pred, y_train)\n",
    "    optimizer.zero_grad()\n",
    "    cost.backward()\n",
    "    optimizer.step()\n",
    "    \n",
    "    if epoch % 100 == 0:\n",
    "        print('Epoch : {}/{}, Cost = {}'.format(epoch, epochs, cost.item()))\n",
    "        "
   ]
  },
  {
   "cell_type": "code",
   "execution_count": null,
   "id": "04542513",
   "metadata": {
    "colab": {
     "base_uri": "https://localhost:8080/"
    },
    "id": "04542513",
    "outputId": "118faab0-f4e8-4c2f-d0eb-fb4c6873bff6"
   },
   "outputs": [],
   "source": [
    "x_train.shape"
   ]
  },
  {
   "cell_type": "code",
   "execution_count": null,
   "id": "3d75af01",
   "metadata": {
    "colab": {
     "base_uri": "https://localhost:8080/"
    },
    "id": "3d75af01",
    "outputId": "c8489745-eda6-44f3-af69-ba8f2f0b5d8b"
   },
   "outputs": [],
   "source": [
    "y_train.shape"
   ]
  },
  {
   "cell_type": "code",
   "execution_count": null,
   "id": "dc6e1c33",
   "metadata": {
    "colab": {
     "base_uri": "https://localhost:8080/"
    },
    "id": "dc6e1c33",
    "outputId": "72cbf64c-feb1-4c40-e36e-c1ca33c4b1b8"
   },
   "outputs": [],
   "source": [
    "new_var = torch.FloatTensor(df.iloc[2][:-1])\n",
    "new_var = new_var.reshape(1,-1)\n",
    "new_var"
   ]
  },
  {
   "cell_type": "code",
   "execution_count": null,
   "id": "Oc3GS1ycBW6e",
   "metadata": {
    "id": "Oc3GS1ycBW6e"
   },
   "outputs": [],
   "source": []
  },
  {
   "cell_type": "code",
   "execution_count": null,
   "id": "2a6defcf",
   "metadata": {
    "id": "2a6defcf"
   },
   "outputs": [],
   "source": [
    "pred_y = model(new_var)"
   ]
  },
  {
   "cell_type": "code",
   "execution_count": null,
   "id": "59628ae2",
   "metadata": {
    "colab": {
     "base_uri": "https://localhost:8080/"
    },
    "id": "59628ae2",
    "outputId": "175e96ea-90a0-4fd2-ab15-b6a9f8884051"
   },
   "outputs": [],
   "source": [
    "pred_y"
   ]
  },
  {
   "cell_type": "code",
   "execution_count": null,
   "id": "cec0ea5e",
   "metadata": {
    "colab": {
     "base_uri": "https://localhost:8080/"
    },
    "id": "cec0ea5e",
    "outputId": "18748961-a432-4e7d-8425-6dfedfe890d7"
   },
   "outputs": [],
   "source": [
    "df.iloc[2][:-1]"
   ]
  },
  {
   "cell_type": "code",
   "execution_count": null,
   "id": "6f0daa62",
   "metadata": {
    "colab": {
     "base_uri": "https://localhost:8080/"
    },
    "id": "6f0daa62",
    "outputId": "083eee38-014d-45e6-f847-4a04c393e431"
   },
   "outputs": [],
   "source": [
    "torch.FloatTensor(x_test[0]).reshape(1,-1)"
   ]
  },
  {
   "cell_type": "code",
   "execution_count": null,
   "id": "bdf32e15",
   "metadata": {
    "id": "bdf32e15"
   },
   "outputs": [],
   "source": [
    "import math\n",
    "\n",
    "err_sum = 0.0\n",
    "for i in range(x_test.shape[0]):\n",
    "    new_var = torch.FloatTensor(x_test[i]).reshape(1,-1)\n",
    "    pred_y = model(new_var)\n",
    "    err_val = y_test[i] - pred_y\n",
    "    err_sum += np.sqrt(math.pow(err_val, 2))\n"
   ]
  },
  {
   "cell_type": "code",
   "execution_count": null,
   "id": "f26e1dfb",
   "metadata": {
    "colab": {
     "base_uri": "https://localhost:8080/"
    },
    "id": "f26e1dfb",
    "outputId": "9b906bbb-03eb-4952-b237-19940a98a158"
   },
   "outputs": [],
   "source": [
    "err_sum / x_test.shape[0]"
   ]
  },
  {
   "cell_type": "code",
   "execution_count": null,
   "id": "af48628c",
   "metadata": {
    "colab": {
     "base_uri": "https://localhost:8080/",
     "height": 226
    },
    "id": "af48628c",
    "outputId": "24216c57-a36a-46ab-c92d-ff24a2ac9142"
   },
   "outputs": [],
   "source": [
    "test_df = pd.read_csv(path + 'test.csv')\n",
    "test_df.head()"
   ]
  },
  {
   "cell_type": "code",
   "execution_count": null,
   "id": "698e0cac",
   "metadata": {
    "id": "698e0cac"
   },
   "outputs": [],
   "source": [
    "columns = [\"HSCD\",\"COUNTRYCD\",\"TRADE_COUNTRYCD\",\"TRADE_HSCD\",\"TARIFF_AVG\",\"SNDIST\",\"NY_GDP_MKTP_CD\",\"NY_GDP_MKTP_CD_1Y\",\"SP_POP_TOTL\",\"IC_BUS_EASE_DFRN_DB\",\"KMDIST\",\"TRADE_HSCD_COUNTRYCD\",\"KR_TRADE_HSCD_COUNTRYCD\"]\n",
    "test_df = test_df[columns].copy()\n",
    "\n",
    "test_df['SNDIST'] = test_df['SNDIST'].fillna(test_df['SNDIST'].mean())\n",
    "test_df['TARIFF_AVG'] = test_df['TARIFF_AVG'].fillna(test_df['TARIFF_AVG'].mean())\n",
    "\n",
    "\n",
    "test_df = test_df.drop('SNDIST', axis=1).copy()\n",
    "test_df = test_df.drop('KMDIST', axis=1).copy()\n"
   ]
  },
  {
   "cell_type": "code",
   "execution_count": null,
   "id": "4Ql5IVgL1dZD",
   "metadata": {
    "colab": {
     "base_uri": "https://localhost:8080/",
     "height": 226
    },
    "id": "4Ql5IVgL1dZD",
    "outputId": "d655bc2b-b728-42c5-96b8-ef33aa0e6d52"
   },
   "outputs": [],
   "source": [
    "test_df.head()"
   ]
  },
  {
   "cell_type": "code",
   "execution_count": null,
   "id": "cz4By-mG3DJp",
   "metadata": {
    "colab": {
     "base_uri": "https://localhost:8080/"
    },
    "id": "cz4By-mG3DJp",
    "outputId": "2040f45b-a071-4ee2-9e0b-1a19e8d71942"
   },
   "outputs": [],
   "source": [
    "test_df = mean_norm(test_df)\n",
    "x_test = np.array(test_df.iloc[:,:-2].values)\n",
    "x_test[0]"
   ]
  },
  {
   "cell_type": "code",
   "execution_count": null,
   "id": "CXw-2gdv2rUI",
   "metadata": {
    "colab": {
     "base_uri": "https://localhost:8080/"
    },
    "id": "CXw-2gdv2rUI",
    "outputId": "081fcd0d-4943-4c80-a41e-f685b432e617"
   },
   "outputs": [],
   "source": [
    "result = pd.read_csv(path + 'test.csv')\n",
    "pd.options.display.float_format = '{:.5f}'.format\n",
    "res = []\n",
    "for i in range(x_test.shape[0]):\n",
    "    new_var = torch.FloatTensor(x_test[i]).reshape(1,-1)\n",
    "    pred_y = model(new_var)\n",
    "    result[\"KR_TRADE_HSCD_COUNTRYCD\"][i] = (result[\"TRADE_HSCD_COUNTRYCD\"][i] * (float(pred_y)/100))\n",
    "\n"
   ]
  },
  {
   "cell_type": "code",
   "execution_count": null,
   "id": "bbvHQ9Mp_8tS",
   "metadata": {
    "id": "bbvHQ9Mp_8tS"
   },
   "outputs": [],
   "source": [
    "result.to_csv(path+\"filename.csv\", mode='w')"
   ]
  },
  {
   "cell_type": "code",
   "execution_count": null,
   "id": "rShyZn8HAvWi",
   "metadata": {
    "colab": {
     "base_uri": "https://localhost:8080/",
     "height": 206
    },
    "id": "rShyZn8HAvWi",
    "outputId": "2a4c9c04-ce93-4366-a746-9027fdacf7ae"
   },
   "outputs": [],
   "source": [
    "df.head()"
   ]
  },
  {
   "cell_type": "code",
   "execution_count": null,
   "id": "Ue9rRfZmMVyD",
   "metadata": {
    "id": "Ue9rRfZmMVyD"
   },
   "outputs": [],
   "source": []
  }
 ],
 "metadata": {
  "accelerator": "GPU",
  "colab": {
   "collapsed_sections": [],
   "name": "multi_variable.ipynb",
   "provenance": []
  },
  "kernelspec": {
   "display_name": "Python 3",
   "language": "python",
   "name": "python3"
  },
  "language_info": {
   "codemirror_mode": {
    "name": "ipython",
    "version": 3
   },
   "file_extension": ".py",
   "mimetype": "text/x-python",
   "name": "python",
   "nbconvert_exporter": "python",
   "pygments_lexer": "ipython3",
   "version": "3.6.12"
  }
 },
 "nbformat": 4,
 "nbformat_minor": 5
}
