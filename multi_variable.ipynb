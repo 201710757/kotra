{
  "nbformat": 4,
  "nbformat_minor": 5,
  "metadata": {
    "kernelspec": {
      "display_name": "Python 3",
      "language": "python",
      "name": "python3"
    },
    "language_info": {
      "codemirror_mode": {
        "name": "ipython",
        "version": 3
      },
      "file_extension": ".py",
      "mimetype": "text/x-python",
      "name": "python",
      "nbconvert_exporter": "python",
      "pygments_lexer": "ipython3",
      "version": "3.8.5"
    },
    "colab": {
      "name": "RNN.ipynb",
      "provenance": [],
      "collapsed_sections": []
    },
    "accelerator": "GPU"
  },
  "cells": [
    {
      "cell_type": "code",
      "metadata": {
        "colab": {
          "base_uri": "https://localhost:8080/"
        },
        "id": "QqsjmXuzB25j",
        "outputId": "0ba4ab65-f67e-4325-9286-a1bf80d44f25"
      },
      "source": [
        "from google.colab import drive \n",
        "drive.mount('/content/gdrive/')"
      ],
      "id": "QqsjmXuzB25j",
      "execution_count": null,
      "outputs": [
        {
          "output_type": "stream",
          "text": [
            "Mounted at /content/gdrive/\n"
          ],
          "name": "stdout"
        }
      ]
    },
    {
      "cell_type": "code",
      "metadata": {
        "id": "4e9ec813"
      },
      "source": [
        "import pandas as pd\n",
        "import numpy as np\n",
        "import matplotlib.pyplot as plt\n",
        "path = './gdrive/MyDrive/colab/'"
      ],
      "id": "4e9ec813",
      "execution_count": null,
      "outputs": []
    },
    {
      "cell_type": "code",
      "metadata": {
        "colab": {
          "base_uri": "https://localhost:8080/",
          "height": 226
        },
        "id": "8e250c1c",
        "outputId": "b31e62a3-2f0f-4455-9509-29c11eca1489"
      },
      "source": [
        "df = pd.read_csv(path + 'train.csv')\n",
        "df.head()"
      ],
      "id": "8e250c1c",
      "execution_count": null,
      "outputs": [
        {
          "output_type": "execute_result",
          "data": {
            "text/html": [
              "<div>\n",
              "<style scoped>\n",
              "    .dataframe tbody tr th:only-of-type {\n",
              "        vertical-align: middle;\n",
              "    }\n",
              "\n",
              "    .dataframe tbody tr th {\n",
              "        vertical-align: top;\n",
              "    }\n",
              "\n",
              "    .dataframe thead th {\n",
              "        text-align: right;\n",
              "    }\n",
              "</style>\n",
              "<table border=\"1\" class=\"dataframe\">\n",
              "  <thead>\n",
              "    <tr style=\"text-align: right;\">\n",
              "      <th></th>\n",
              "      <th>UNC_YEAR</th>\n",
              "      <th>HSCD</th>\n",
              "      <th>COUNTRYCD</th>\n",
              "      <th>COUNTRYNM</th>\n",
              "      <th>TRADE_COUNTRYCD</th>\n",
              "      <th>TRADE_HSCD</th>\n",
              "      <th>TARIFF_AVG</th>\n",
              "      <th>SNDIST</th>\n",
              "      <th>NY_GDP_MKTP_CD</th>\n",
              "      <th>NY_GDP_MKTP_CD_1Y</th>\n",
              "      <th>SP_POP_TOTL</th>\n",
              "      <th>PA_NUS_FCRF</th>\n",
              "      <th>IC_BUS_EASE_DFRN_DB</th>\n",
              "      <th>KMDIST</th>\n",
              "      <th>TRADE_HSCD_COUNTRYCD</th>\n",
              "      <th>KR_TRADE_HSCD_COUNTRYCD</th>\n",
              "    </tr>\n",
              "  </thead>\n",
              "  <tbody>\n",
              "    <tr>\n",
              "      <th>0</th>\n",
              "      <td>2017</td>\n",
              "      <td>190590</td>\n",
              "      <td>12</td>\n",
              "      <td>Algeria</td>\n",
              "      <td>4.605299e+10</td>\n",
              "      <td>1.948099e+10</td>\n",
              "      <td>30.0</td>\n",
              "      <td>3878.238437</td>\n",
              "      <td>1.701630e+11</td>\n",
              "      <td>1.599950e+11</td>\n",
              "      <td>41389198</td>\n",
              "      <td>110.973017</td>\n",
              "      <td>46.109810</td>\n",
              "      <td>9954.009766</td>\n",
              "      <td>3416326.0</td>\n",
              "      <td>7657</td>\n",
              "    </tr>\n",
              "    <tr>\n",
              "      <th>1</th>\n",
              "      <td>2017</td>\n",
              "      <td>190590</td>\n",
              "      <td>36</td>\n",
              "      <td>Australia</td>\n",
              "      <td>2.284420e+11</td>\n",
              "      <td>1.948099e+10</td>\n",
              "      <td>0.0</td>\n",
              "      <td>12203.155980</td>\n",
              "      <td>1.329190e+12</td>\n",
              "      <td>1.208850e+12</td>\n",
              "      <td>24601860</td>\n",
              "      <td>1.304758</td>\n",
              "      <td>80.223690</td>\n",
              "      <td>8329.652344</td>\n",
              "      <td>438747025.0</td>\n",
              "      <td>5294788</td>\n",
              "    </tr>\n",
              "    <tr>\n",
              "      <th>2</th>\n",
              "      <td>2017</td>\n",
              "      <td>190590</td>\n",
              "      <td>40</td>\n",
              "      <td>Austria</td>\n",
              "      <td>1.664750e+11</td>\n",
              "      <td>1.948099e+10</td>\n",
              "      <td>0.0</td>\n",
              "      <td>4403.247293</td>\n",
              "      <td>4.172380e+11</td>\n",
              "      <td>3.955690e+11</td>\n",
              "      <td>8797566</td>\n",
              "      <td>NaN</td>\n",
              "      <td>78.856460</td>\n",
              "      <td>8289.029297</td>\n",
              "      <td>453206357.0</td>\n",
              "      <td>335818</td>\n",
              "    </tr>\n",
              "    <tr>\n",
              "      <th>3</th>\n",
              "      <td>2017</td>\n",
              "      <td>190590</td>\n",
              "      <td>56</td>\n",
              "      <td>Belgium</td>\n",
              "      <td>4.064120e+11</td>\n",
              "      <td>1.948099e+10</td>\n",
              "      <td>0.0</td>\n",
              "      <td>3980.375563</td>\n",
              "      <td>5.026980e+11</td>\n",
              "      <td>4.757400e+11</td>\n",
              "      <td>11375158</td>\n",
              "      <td>NaN</td>\n",
              "      <td>72.409200</td>\n",
              "      <td>8722.114258</td>\n",
              "      <td>706524512.0</td>\n",
              "      <td>173709</td>\n",
              "    </tr>\n",
              "    <tr>\n",
              "      <th>4</th>\n",
              "      <td>2017</td>\n",
              "      <td>190590</td>\n",
              "      <td>76</td>\n",
              "      <td>Brazil</td>\n",
              "      <td>1.507490e+11</td>\n",
              "      <td>1.948099e+10</td>\n",
              "      <td>18.0</td>\n",
              "      <td>9644.206941</td>\n",
              "      <td>2.062830e+12</td>\n",
              "      <td>1.795700e+12</td>\n",
              "      <td>207833831</td>\n",
              "      <td>3.191389</td>\n",
              "      <td>55.382403</td>\n",
              "      <td>18364.505860</td>\n",
              "      <td>31329648.0</td>\n",
              "      <td>122850</td>\n",
              "    </tr>\n",
              "  </tbody>\n",
              "</table>\n",
              "</div>"
            ],
            "text/plain": [
              "   UNC_YEAR    HSCD  ...  TRADE_HSCD_COUNTRYCD KR_TRADE_HSCD_COUNTRYCD\n",
              "0      2017  190590  ...             3416326.0                    7657\n",
              "1      2017  190590  ...           438747025.0                 5294788\n",
              "2      2017  190590  ...           453206357.0                  335818\n",
              "3      2017  190590  ...           706524512.0                  173709\n",
              "4      2017  190590  ...            31329648.0                  122850\n",
              "\n",
              "[5 rows x 16 columns]"
            ]
          },
          "metadata": {
            "tags": []
          },
          "execution_count": 9
        }
      ]
    },
    {
      "cell_type": "code",
      "metadata": {
        "id": "3db97ba1",
        "colab": {
          "base_uri": "https://localhost:8080/",
          "height": 226
        },
        "outputId": "4571b8ec-c109-4a0e-a182-c275c89e06e5"
      },
      "source": [
        "# columns = [\"UNC_YEAR\",\"HSCD\",\"COUNTRYCD\",\"COUNTRYNM\",\"TRADE_COUNTRYCD\",\"TRADE_HSCD\",\"TARIFF_AVG\",\"SNDIST\",\"NY_GDP_MKTP_CD\",\"NY_GDP_MKTP_CD_1Y\",\"SP_POP_TOTL\",\"IC_BUS_EASE_DFRN_DB\",\"KMDIST\",\"TRADE_HSCD_COUNTRYCD\",\"KR_TRADE_HSCD_COUNTRYCD\"] # 12526300.9116\n",
        "columns = [\"HSCD\",\"COUNTRYCD\",\"TRADE_COUNTRYCD\",\"TRADE_HSCD\",\"TARIFF_AVG\",\"NY_GDP_MKTP_CD\",\"NY_GDP_MKTP_CD_1Y\",\"SP_POP_TOTL\",\"IC_BUS_EASE_DFRN_DB\",\"TRADE_HSCD_COUNTRYCD\",\"KR_TRADE_HSCD_COUNTRYCD\"]\n",
        "df = df[columns].copy()\n",
        "print(df['TARIFF_AVG'].mean())\n",
        "df['TARIFF_AVG'] = df['TARIFF_AVG'].fillna(df['TARIFF_AVG'].mean())\n",
        "\n",
        "df = df.dropna(axis=0)\n",
        "df.head()"
      ],
      "id": "3db97ba1",
      "execution_count": null,
      "outputs": [
        {
          "output_type": "execute_result",
          "data": {
            "text/html": [
              "<div>\n",
              "<style scoped>\n",
              "    .dataframe tbody tr th:only-of-type {\n",
              "        vertical-align: middle;\n",
              "    }\n",
              "\n",
              "    .dataframe tbody tr th {\n",
              "        vertical-align: top;\n",
              "    }\n",
              "\n",
              "    .dataframe thead th {\n",
              "        text-align: right;\n",
              "    }\n",
              "</style>\n",
              "<table border=\"1\" class=\"dataframe\">\n",
              "  <thead>\n",
              "    <tr style=\"text-align: right;\">\n",
              "      <th></th>\n",
              "      <th>HSCD</th>\n",
              "      <th>COUNTRYCD</th>\n",
              "      <th>TRADE_COUNTRYCD</th>\n",
              "      <th>TRADE_HSCD</th>\n",
              "      <th>TARIFF_AVG</th>\n",
              "      <th>NY_GDP_MKTP_CD</th>\n",
              "      <th>NY_GDP_MKTP_CD_1Y</th>\n",
              "      <th>SP_POP_TOTL</th>\n",
              "      <th>IC_BUS_EASE_DFRN_DB</th>\n",
              "      <th>TRADE_HSCD_COUNTRYCD</th>\n",
              "      <th>KR_TRADE_HSCD_COUNTRYCD</th>\n",
              "    </tr>\n",
              "  </thead>\n",
              "  <tbody>\n",
              "    <tr>\n",
              "      <th>0</th>\n",
              "      <td>190590</td>\n",
              "      <td>12</td>\n",
              "      <td>4.605299e+10</td>\n",
              "      <td>1.948099e+10</td>\n",
              "      <td>30.0</td>\n",
              "      <td>1.701630e+11</td>\n",
              "      <td>1.599950e+11</td>\n",
              "      <td>41389198</td>\n",
              "      <td>46.109810</td>\n",
              "      <td>3416326.0</td>\n",
              "      <td>7657</td>\n",
              "    </tr>\n",
              "    <tr>\n",
              "      <th>1</th>\n",
              "      <td>190590</td>\n",
              "      <td>36</td>\n",
              "      <td>2.284420e+11</td>\n",
              "      <td>1.948099e+10</td>\n",
              "      <td>0.0</td>\n",
              "      <td>1.329190e+12</td>\n",
              "      <td>1.208850e+12</td>\n",
              "      <td>24601860</td>\n",
              "      <td>80.223690</td>\n",
              "      <td>438747025.0</td>\n",
              "      <td>5294788</td>\n",
              "    </tr>\n",
              "    <tr>\n",
              "      <th>2</th>\n",
              "      <td>190590</td>\n",
              "      <td>40</td>\n",
              "      <td>1.664750e+11</td>\n",
              "      <td>1.948099e+10</td>\n",
              "      <td>0.0</td>\n",
              "      <td>4.172380e+11</td>\n",
              "      <td>3.955690e+11</td>\n",
              "      <td>8797566</td>\n",
              "      <td>78.856460</td>\n",
              "      <td>453206357.0</td>\n",
              "      <td>335818</td>\n",
              "    </tr>\n",
              "    <tr>\n",
              "      <th>3</th>\n",
              "      <td>190590</td>\n",
              "      <td>56</td>\n",
              "      <td>4.064120e+11</td>\n",
              "      <td>1.948099e+10</td>\n",
              "      <td>0.0</td>\n",
              "      <td>5.026980e+11</td>\n",
              "      <td>4.757400e+11</td>\n",
              "      <td>11375158</td>\n",
              "      <td>72.409200</td>\n",
              "      <td>706524512.0</td>\n",
              "      <td>173709</td>\n",
              "    </tr>\n",
              "    <tr>\n",
              "      <th>4</th>\n",
              "      <td>190590</td>\n",
              "      <td>76</td>\n",
              "      <td>1.507490e+11</td>\n",
              "      <td>1.948099e+10</td>\n",
              "      <td>18.0</td>\n",
              "      <td>2.062830e+12</td>\n",
              "      <td>1.795700e+12</td>\n",
              "      <td>207833831</td>\n",
              "      <td>55.382403</td>\n",
              "      <td>31329648.0</td>\n",
              "      <td>122850</td>\n",
              "    </tr>\n",
              "  </tbody>\n",
              "</table>\n",
              "</div>"
            ],
            "text/plain": [
              "     HSCD  COUNTRYCD  ...  TRADE_HSCD_COUNTRYCD  KR_TRADE_HSCD_COUNTRYCD\n",
              "0  190590         12  ...             3416326.0                     7657\n",
              "1  190590         36  ...           438747025.0                  5294788\n",
              "2  190590         40  ...           453206357.0                   335818\n",
              "3  190590         56  ...           706524512.0                   173709\n",
              "4  190590         76  ...            31329648.0                   122850\n",
              "\n",
              "[5 rows x 11 columns]"
            ]
          },
          "metadata": {
            "tags": []
          },
          "execution_count": 10
        }
      ]
    },
    {
      "cell_type": "code",
      "metadata": {
        "colab": {
          "base_uri": "https://localhost:8080/",
          "height": 556
        },
        "id": "6e1a3575",
        "outputId": "10858ce7-dc8b-44f9-e563-c87568096bb4"
      },
      "source": [
        "df.isnull().mean().plot.barh(figsize=(7,9))"
      ],
      "id": "6e1a3575",
      "execution_count": null,
      "outputs": [
        {
          "output_type": "execute_result",
          "data": {
            "text/plain": [
              "<matplotlib.axes._subplots.AxesSubplot at 0x7f25df76dc10>"
            ]
          },
          "metadata": {
            "tags": []
          },
          "execution_count": 11
        },
        {
          "output_type": "display_data",
          "data": {
            "image/png": "[encoded data removed]",
            "text/plain": [
              "<Figure size 504x648 with 1 Axes>"
            ]
          },
          "metadata": {
            "tags": [],
            "needs_background": "light"
          }
        }
      ]
    },
    {
      "cell_type": "code",
      "metadata": {
        "colab": {
          "base_uri": "https://localhost:8080/"
        },
        "id": "8d23c8fb",
        "outputId": "58befe4c-1936-4a79-a9b4-08b2f5ff494b"
      },
      "source": [
        "df.shape"
      ],
      "id": "8d23c8fb",
      "execution_count": null,
      "outputs": [
        {
          "output_type": "execute_result",
          "data": {
            "text/plain": [
              "(21168, 11)"
            ]
          },
          "metadata": {
            "tags": []
          },
          "execution_count": 12
        }
      ]
    },
    {
      "cell_type": "code",
      "metadata": {
        "colab": {
          "base_uri": "https://localhost:8080/"
        },
        "id": "c69ce14b",
        "outputId": "a59d15bd-35a9-4085-8f5f-9e04babc0ac3"
      },
      "source": [
        "df[\"percent\"] = df[\"KR_TRADE_HSCD_COUNTRYCD\"] / df[\"TRADE_HSCD_COUNTRYCD\"] * 100\n",
        "df[\"percent\"]"
      ],
      "id": "c69ce14b",
      "execution_count": null,
      "outputs": [
        {
          "output_type": "execute_result",
          "data": {
            "text/plain": [
              "0        0.224130\n",
              "1        1.206797\n",
              "2        0.074098\n",
              "3        0.024586\n",
              "4        0.392121\n",
              "           ...   \n",
              "21183    1.357677\n",
              "21184    0.428503\n",
              "21185    7.172731\n",
              "21187    1.739317\n",
              "21188    2.783575\n",
              "Name: percent, Length: 21168, dtype: float64"
            ]
          },
          "metadata": {
            "tags": []
          },
          "execution_count": 13
        }
      ]
    },
    {
      "cell_type": "code",
      "metadata": {
        "id": "ad715cd5"
      },
      "source": [
        "df = df.drop('KR_TRADE_HSCD_COUNTRYCD', axis=1).copy()\n",
        "df = df.drop('TRADE_HSCD_COUNTRYCD', axis=1).copy()"
      ],
      "id": "ad715cd5",
      "execution_count": null,
      "outputs": []
    },
    {
      "cell_type": "code",
      "metadata": {
        "colab": {
          "base_uri": "https://localhost:8080/"
        },
        "id": "7b0e9aac",
        "outputId": "d0518bc3-0311-4c1c-a8e5-4b67643bceeb"
      },
      "source": [
        "df.shape"
      ],
      "id": "7b0e9aac",
      "execution_count": null,
      "outputs": [
        {
          "output_type": "execute_result",
          "data": {
            "text/plain": [
              "(21168, 10)"
            ]
          },
          "metadata": {
            "tags": []
          },
          "execution_count": 15
        }
      ]
    },
    {
      "cell_type": "code",
      "metadata": {
        "colab": {
          "base_uri": "https://localhost:8080/"
        },
        "id": "9eb6dc2f",
        "outputId": "56665b1c-973c-4d10-a16e-cd6786072229"
      },
      "source": [
        "print(df.shape)\n",
        "tr = int(df.shape[0]*6/10) # Train\n",
        "te = int((df.shape[0] - tr)/2) # Test (actually Train)\n",
        "va = df.shape[0] - tr - te # Validation (actually Test)\n",
        "print(tr,te, va)"
      ],
      "id": "9eb6dc2f",
      "execution_count": null,
      "outputs": [
        {
          "output_type": "stream",
          "text": [
            "(21168, 10)\n",
            "12700 4234 4234\n"
          ],
          "name": "stdout"
        }
      ]
    },
    {
      "cell_type": "code",
      "metadata": {
        "id": "J59QOxiNPQx8"
      },
      "source": [
        "import torch\n",
        "import torch.nn as nn\n",
        "import torch.nn.functional as F\n",
        "import torch.optim as optim\n",
        "torch.manual_seed(1)\n",
        "device = torch.device(\"cuda\")"
      ],
      "id": "J59QOxiNPQx8",
      "execution_count": null,
      "outputs": []
    },
    {
      "cell_type": "code",
      "metadata": {
        "colab": {
          "base_uri": "https://localhost:8080/"
        },
        "id": "I07wXt8vPU7B",
        "outputId": "3530587b-b87c-4651-a08f-0911fa5e240b"
      },
      "source": [
        "import torch\n",
        "\n",
        "x_train = torch.FloatTensor(df.iloc[:tr+te,:-1].values).to(device)\n",
        "y_train = torch.FloatTensor(df.iloc[:tr+te,-1].values).to(device)\n",
        "x_test = torch.FloatTensor(df.iloc[tr+te:,:-1].values).to(device)\n",
        "y_test = torch.FloatTensor(df.iloc[tr+te:,-1].values).to(device)\n",
        "\n",
        "max(y_train)"
      ],
      "id": "I07wXt8vPU7B",
      "execution_count": null,
      "outputs": [
        {
          "output_type": "execute_result",
          "data": {
            "text/plain": [
              "tensor(3357.3669, device='cuda:0')"
            ]
          },
          "metadata": {
            "tags": []
          },
          "execution_count": 84
        }
      ]
    },
    {
      "cell_type": "code",
      "metadata": {
        "colab": {
          "base_uri": "https://localhost:8080/"
        },
        "id": "bbx9WLX0PU16",
        "outputId": "ab5e6b30-794d-432b-bdd3-0895fd8c33a6"
      },
      "source": [
        "print(x_train.shape)\n",
        "print(y_train.shape)"
      ],
      "id": "bbx9WLX0PU16",
      "execution_count": null,
      "outputs": [
        {
          "output_type": "stream",
          "text": [
            "torch.Size([16934, 9])\n",
            "torch.Size([16934])\n"
          ],
          "name": "stdout"
        }
      ]
    },
    {
      "cell_type": "code",
      "metadata": {
        "id": "4jD9Q9k1PUy6"
      },
      "source": [
        "class Model(nn.Module):\n",
        "  def __init__(self, in_channel, out_channel):\n",
        "    super(Model, self).__init__()\n",
        "    self.bn = nn.BatchNorm1d(in_channel)\n",
        "    self.layer1 = nn.Linear(in_channel, out_channel)\n",
        "  def forward(self, x):\n",
        "    x = x.to(device)\n",
        "    return self.layer1(self.bn(x))\n",
        "\n",
        "class DeepModel(nn.Module):\n",
        "  def __init__(self, in_channel, out_channel):\n",
        "    super(DeepModel, self).__init__()\n",
        "\n",
        "    self.basic = nn.BatchNorm1d(in_channel)\n",
        "    self.layer1 = nn.Linear(in_channel, 256)\n",
        "    self.bn1 = nn.BatchNorm1d(256)\n",
        "    self.layer2 = nn.Linear(256, 64)\n",
        "    self.bn2 = nn.BatchNorm1d(64)\n",
        "    self.head = nn.Linear(64, out_channel)\n",
        "\n",
        "  def forward(self, x):\n",
        "    x = x.to(device)\n",
        "    x = self.basic(x)\n",
        "    x = F.relu(self.bn1(self.layer1(x)))\n",
        "    x = F.relu(self.bn2(self.layer2(x)))\n",
        "    \n",
        "    return self.head(x)\n",
        "\n",
        "# model = nn.Linear(9,1).to(device)\n",
        "model = TestModel(9, 1).to(device)\n",
        "deepmodel = DeepModel(9, 1).to(device)\n",
        "model.eval()\n",
        "deepmodel.eval()"
      ],
      "id": "4jD9Q9k1PUy6",
      "execution_count": null,
      "outputs": []
    },
    {
      "cell_type": "code",
      "metadata": {
        "id": "VRFgwTutQSAF"
      },
      "source": [
        "optimizer = torch.optim.SGD(deepmodel.parameters(), lr=1e-2)"
      ],
      "id": "VRFgwTutQSAF",
      "execution_count": null,
      "outputs": []
    },
    {
      "cell_type": "code",
      "metadata": {
        "colab": {
          "base_uri": "https://localhost:8080/"
        },
        "id": "CDhC3L6lTHu8",
        "outputId": "11575c38-d0fb-4d86-a458-f86977544654"
      },
      "source": [
        "n_epochs = 20000\n",
        "\n",
        "for epoch in range(n_epochs):\n",
        "  pred = deepmodel(x_train).to(device)\n",
        "  cost = F.mse_loss(pred, y_train)\n",
        "\n",
        "  optimizer.zero_grad()\n",
        "  cost.backward()\n",
        "  optimizer.step()\n",
        "\n",
        "  if epoch % 10000 == 0:\n",
        "    print(\"Ep {} cost : {}\".format(epoch, cost.item()))"
      ],
      "id": "CDhC3L6lTHu8",
      "execution_count": null,
      "outputs": [
        {
          "output_type": "stream",
          "text": [
            "/usr/local/lib/python3.7/dist-packages/ipykernel_launcher.py:5: UserWarning: Using a target size (torch.Size([16934])) that is different to the input size (torch.Size([16934, 1])). This will likely lead to incorrect results due to broadcasting. Please ensure they have the same size.\n",
            "  \"\"\"\n"
          ],
          "name": "stderr"
        },
        {
          "output_type": "stream",
          "text": [
            "Ep 0 cost : 2058.516845703125\n",
            "Ep 10000 cost : 2058.502197265625\n"
          ],
          "name": "stdout"
        }
      ]
    },
    {
      "cell_type": "code",
      "metadata": {
        "id": "SQI-mU1EYefl"
      },
      "source": [
        "\n"
      ],
      "id": "SQI-mU1EYefl",
      "execution_count": null,
      "outputs": []
    },
    {
      "cell_type": "code",
      "metadata": {
        "id": "M63hE-uSTHsz"
      },
      "source": [
        "pred_y = deepmodel(x_train[:10])"
      ],
      "id": "M63hE-uSTHsz",
      "execution_count": null,
      "outputs": []
    },
    {
      "cell_type": "code",
      "metadata": {
        "colab": {
          "base_uri": "https://localhost:8080/"
        },
        "id": "14NgSFH-WixF",
        "outputId": "c3066a9e-fb65-4f98-ca94-e6c01d927866"
      },
      "source": [
        "x_train[:10]"
      ],
      "id": "14NgSFH-WixF",
      "execution_count": null,
      "outputs": [
        {
          "output_type": "execute_result",
          "data": {
            "text/plain": [
              "tensor([[1.9059e+05, 1.2000e+01, 4.6053e+10, 1.9481e+10, 3.0000e+01, 1.7016e+11,\n",
              "         1.6000e+11, 4.1389e+07, 4.6110e+01],\n",
              "        [1.9059e+05, 3.6000e+01, 2.2844e+11, 1.9481e+10, 0.0000e+00, 1.3292e+12,\n",
              "         1.2089e+12, 2.4602e+07, 8.0224e+01],\n",
              "        [1.9059e+05, 4.0000e+01, 1.6648e+11, 1.9481e+10, 0.0000e+00, 4.1724e+11,\n",
              "         3.9557e+11, 8.7976e+06, 7.8856e+01],\n",
              "        [1.9059e+05, 5.6000e+01, 4.0641e+11, 1.9481e+10, 0.0000e+00, 5.0270e+11,\n",
              "         4.7574e+11, 1.1375e+07, 7.2409e+01],\n",
              "        [1.9059e+05, 7.6000e+01, 1.5075e+11, 1.9481e+10, 1.8000e+01, 2.0628e+12,\n",
              "         1.7957e+12, 2.0783e+08, 5.5382e+01],\n",
              "        [1.9059e+05, 1.0400e+02, 1.9253e+10, 1.9481e+10, 5.0000e+00, 6.8946e+10,\n",
              "         6.7184e+10, 5.3383e+07, 4.2671e+01],\n",
              "        [1.9059e+05, 1.2400e+02, 4.3240e+11, 1.9481e+10, 0.0000e+00, 1.6499e+12,\n",
              "         1.5282e+12, 3.6543e+07, 7.9541e+01],\n",
              "        [1.9059e+05, 1.4400e+02, 2.1316e+10, 1.9481e+10, 3.0000e+01, 8.7428e+10,\n",
              "         8.2401e+10, 2.1444e+07, 5.9824e+01],\n",
              "        [1.9059e+05, 1.5200e+02, 6.5257e+10, 1.9481e+10, 0.0000e+00, 2.7704e+11,\n",
              "         2.5044e+11, 1.8470e+07, 7.1582e+01],\n",
              "        [1.9059e+05, 1.5600e+02, 1.8438e+12, 1.9481e+10, 8.6000e+00, 1.2310e+13,\n",
              "         1.1233e+13, 1.3864e+09, 6.4639e+01]], device='cuda:0')"
            ]
          },
          "metadata": {
            "tags": []
          },
          "execution_count": 93
        }
      ]
    },
    {
      "cell_type": "code",
      "metadata": {
        "colab": {
          "base_uri": "https://localhost:8080/"
        },
        "id": "sCfcx5-aWcVT",
        "outputId": "3a4e8ce2-b0ab-4268-f06d-861dfac675fd"
      },
      "source": [
        "pred_y"
      ],
      "id": "sCfcx5-aWcVT",
      "execution_count": null,
      "outputs": [
        {
          "output_type": "execute_result",
          "data": {
            "text/plain": [
              "tensor([[5.8165],\n",
              "        [5.2681],\n",
              "        [4.9635],\n",
              "        [5.7995],\n",
              "        [6.1344],\n",
              "        [6.0141],\n",
              "        [5.7864],\n",
              "        [5.6373],\n",
              "        [6.0389],\n",
              "        [4.2520]], device='cuda:0', grad_fn=<AddmmBackward>)"
            ]
          },
          "metadata": {
            "tags": []
          },
          "execution_count": 94
        }
      ]
    },
    {
      "cell_type": "code",
      "metadata": {
        "colab": {
          "base_uri": "https://localhost:8080/"
        },
        "id": "oy0xyj6jTHqh",
        "outputId": "e4353918-7a47-40a7-c329-ee6672ca7166"
      },
      "source": [
        "torch.mean((pred_y - y_train[:10]) ** 2)"
      ],
      "id": "oy0xyj6jTHqh",
      "execution_count": null,
      "outputs": [
        {
          "output_type": "execute_result",
          "data": {
            "text/plain": [
              "tensor(20.1330, device='cuda:0', grad_fn=<MeanBackward0>)"
            ]
          },
          "metadata": {
            "tags": []
          },
          "execution_count": 95
        }
      ]
    },
    {
      "cell_type": "code",
      "metadata": {
        "colab": {
          "base_uri": "https://localhost:8080/",
          "height": 206
        },
        "id": "nqnwFZCKTHmG",
        "outputId": "6d174ac2-fdeb-4e9f-988e-28322c3338fe"
      },
      "source": [
        "df.head()"
      ],
      "id": "nqnwFZCKTHmG",
      "execution_count": null,
      "outputs": [
        {
          "output_type": "execute_result",
          "data": {
            "text/html": [
              "<div>\n",
              "<style scoped>\n",
              "    .dataframe tbody tr th:only-of-type {\n",
              "        vertical-align: middle;\n",
              "    }\n",
              "\n",
              "    .dataframe tbody tr th {\n",
              "        vertical-align: top;\n",
              "    }\n",
              "\n",
              "    .dataframe thead th {\n",
              "        text-align: right;\n",
              "    }\n",
              "</style>\n",
              "<table border=\"1\" class=\"dataframe\">\n",
              "  <thead>\n",
              "    <tr style=\"text-align: right;\">\n",
              "      <th></th>\n",
              "      <th>HSCD</th>\n",
              "      <th>COUNTRYCD</th>\n",
              "      <th>TRADE_COUNTRYCD</th>\n",
              "      <th>TRADE_HSCD</th>\n",
              "      <th>TARIFF_AVG</th>\n",
              "      <th>NY_GDP_MKTP_CD</th>\n",
              "      <th>NY_GDP_MKTP_CD_1Y</th>\n",
              "      <th>SP_POP_TOTL</th>\n",
              "      <th>IC_BUS_EASE_DFRN_DB</th>\n",
              "      <th>percent</th>\n",
              "    </tr>\n",
              "  </thead>\n",
              "  <tbody>\n",
              "    <tr>\n",
              "      <th>0</th>\n",
              "      <td>190590</td>\n",
              "      <td>12</td>\n",
              "      <td>4.605299e+10</td>\n",
              "      <td>1.948099e+10</td>\n",
              "      <td>30.0</td>\n",
              "      <td>1.701630e+11</td>\n",
              "      <td>1.599950e+11</td>\n",
              "      <td>41389198</td>\n",
              "      <td>46.109810</td>\n",
              "      <td>0.224130</td>\n",
              "    </tr>\n",
              "    <tr>\n",
              "      <th>1</th>\n",
              "      <td>190590</td>\n",
              "      <td>36</td>\n",
              "      <td>2.284420e+11</td>\n",
              "      <td>1.948099e+10</td>\n",
              "      <td>0.0</td>\n",
              "      <td>1.329190e+12</td>\n",
              "      <td>1.208850e+12</td>\n",
              "      <td>24601860</td>\n",
              "      <td>80.223690</td>\n",
              "      <td>1.206797</td>\n",
              "    </tr>\n",
              "    <tr>\n",
              "      <th>2</th>\n",
              "      <td>190590</td>\n",
              "      <td>40</td>\n",
              "      <td>1.664750e+11</td>\n",
              "      <td>1.948099e+10</td>\n",
              "      <td>0.0</td>\n",
              "      <td>4.172380e+11</td>\n",
              "      <td>3.955690e+11</td>\n",
              "      <td>8797566</td>\n",
              "      <td>78.856460</td>\n",
              "      <td>0.074098</td>\n",
              "    </tr>\n",
              "    <tr>\n",
              "      <th>3</th>\n",
              "      <td>190590</td>\n",
              "      <td>56</td>\n",
              "      <td>4.064120e+11</td>\n",
              "      <td>1.948099e+10</td>\n",
              "      <td>0.0</td>\n",
              "      <td>5.026980e+11</td>\n",
              "      <td>4.757400e+11</td>\n",
              "      <td>11375158</td>\n",
              "      <td>72.409200</td>\n",
              "      <td>0.024586</td>\n",
              "    </tr>\n",
              "    <tr>\n",
              "      <th>4</th>\n",
              "      <td>190590</td>\n",
              "      <td>76</td>\n",
              "      <td>1.507490e+11</td>\n",
              "      <td>1.948099e+10</td>\n",
              "      <td>18.0</td>\n",
              "      <td>2.062830e+12</td>\n",
              "      <td>1.795700e+12</td>\n",
              "      <td>207833831</td>\n",
              "      <td>55.382403</td>\n",
              "      <td>0.392121</td>\n",
              "    </tr>\n",
              "  </tbody>\n",
              "</table>\n",
              "</div>"
            ],
            "text/plain": [
              "     HSCD  COUNTRYCD  ...  IC_BUS_EASE_DFRN_DB   percent\n",
              "0  190590         12  ...            46.109810  0.224130\n",
              "1  190590         36  ...            80.223690  1.206797\n",
              "2  190590         40  ...            78.856460  0.074098\n",
              "3  190590         56  ...            72.409200  0.024586\n",
              "4  190590         76  ...            55.382403  0.392121\n",
              "\n",
              "[5 rows x 10 columns]"
            ]
          },
          "metadata": {
            "tags": []
          },
          "execution_count": 68
        }
      ]
    },
    {
      "cell_type": "code",
      "metadata": {
        "colab": {
          "base_uri": "https://localhost:8080/"
        },
        "id": "KQxj_YtOTHkQ",
        "outputId": "487ea65f-c36d-4399-b4b7-ba4b08920ba9"
      },
      "source": [
        "model(new_var)"
      ],
      "id": "KQxj_YtOTHkQ",
      "execution_count": null,
      "outputs": [
        {
          "output_type": "execute_result",
          "data": {
            "text/plain": [
              "tensor([nan], device='cuda:0', grad_fn=<AddBackward0>)"
            ]
          },
          "metadata": {
            "tags": []
          },
          "execution_count": 59
        }
      ]
    },
    {
      "cell_type": "code",
      "metadata": {
        "id": "hZeaPkyUTHeh"
      },
      "source": [
        ""
      ],
      "id": "hZeaPkyUTHeh",
      "execution_count": null,
      "outputs": []
    },
    {
      "cell_type": "code",
      "metadata": {
        "id": "XtzTA1QeQR97"
      },
      "source": [
        "# W = torch.zeros((9,1), requires_grad=True)\n",
        "# b = torch.zeros(1, requires_grad=True)\n",
        "# optimizer = optim.SGD([W,b], lr=1e-5)\n",
        "\n",
        "# epochs = 1000\n",
        "# for epoch in range(epochs):\n",
        "#   hypothesis = (x_train.matmul(W) + b)\n",
        "#   cost = torch.mean((hypothesis - y_train) ** 2)\n",
        "\n",
        "#   optimizer.zero_grad()\n",
        "#   cost.backward()\n",
        "#   optimizer.step()\n",
        "#   if epoch % 50 == 0:\n",
        "#     print(\"Ep {} cost : {}\".format(epoch, cost.item()))\n"
      ],
      "id": "XtzTA1QeQR97",
      "execution_count": null,
      "outputs": []
    },
    {
      "cell_type": "code",
      "metadata": {
        "id": "vcyXepGYQR7j"
      },
      "source": [
        ""
      ],
      "id": "vcyXepGYQR7j",
      "execution_count": null,
      "outputs": []
    },
    {
      "cell_type": "code",
      "metadata": {
        "id": "II8ZQxykQR5S"
      },
      "source": [
        ""
      ],
      "id": "II8ZQxykQR5S",
      "execution_count": null,
      "outputs": []
    },
    {
      "cell_type": "code",
      "metadata": {
        "id": "wIF-xH1EQR2y"
      },
      "source": [
        ""
      ],
      "id": "wIF-xH1EQR2y",
      "execution_count": null,
      "outputs": []
    },
    {
      "cell_type": "code",
      "metadata": {
        "id": "CWJOqpNmQR0i"
      },
      "source": [
        ""
      ],
      "id": "CWJOqpNmQR0i",
      "execution_count": null,
      "outputs": []
    },
    {
      "cell_type": "code",
      "metadata": {
        "id": "pKuk3JUOQRyB"
      },
      "source": [
        ""
      ],
      "id": "pKuk3JUOQRyB",
      "execution_count": null,
      "outputs": []
    },
    {
      "cell_type": "code",
      "metadata": {
        "id": "qLeEnaFCPUaU"
      },
      "source": [
        ""
      ],
      "id": "qLeEnaFCPUaU",
      "execution_count": null,
      "outputs": []
    },
    {
      "cell_type": "code",
      "metadata": {
        "id": "e403b135"
      },
      "source": [
        "import numpy as np\n",
        "import tensorflow as tf\n",
        "from tensorflow import keras\n",
        "from tensorflow.keras import layers"
      ],
      "id": "e403b135",
      "execution_count": null,
      "outputs": []
    },
    {
      "cell_type": "code",
      "metadata": {
        "id": "322f3ccb"
      },
      "source": [
        "batch_size = 16\n",
        "# Each MNIST image batch is a tensor of shape (batch_size, 28, 28).\n",
        "# Each input sequence will be of size (28, 28) (height is treated like time).\n",
        "input_dim = 3\n",
        "\n",
        "units = 16\n",
        "output_size = 3358  # labels are from 0 to 9\n",
        "\n",
        "# Build the RNN model\n",
        "def build_model(allow_cudnn_kernel=True):\n",
        "    # CuDNN is only available at the layer level, and not at the cell level.\n",
        "    # This means `LSTM(units)` will use the CuDNN kernel,\n",
        "    # while RNN(LSTMCell(units)) will run on non-CuDNN kernel.\n",
        "    if allow_cudnn_kernel:\n",
        "        # The LSTM layer with default options uses CuDNN.\n",
        "        lstm_layer = keras.layers.LSTM(units, input_shape=(None, input_dim), activation='relu')\n",
        "    else:\n",
        "        # Wrapping a LSTMCell in a RNN layer will not use CuDNN.\n",
        "        lstm_layer = keras.layers.RNN(\n",
        "            keras.layers.LSTMCell(units), input_shape=(None, input_dim)\n",
        "        )\n",
        "    model = keras.models.Sequential(\n",
        "        [\n",
        "            lstm_layer,\n",
        "            keras.layers.BatchNormalization(),\n",
        "            keras.layers.Dense(output_size),\n",
        "        ]\n",
        "    )\n",
        "    return model"
      ],
      "id": "322f3ccb",
      "execution_count": null,
      "outputs": []
    },
    {
      "cell_type": "code",
      "metadata": {
        "colab": {
          "base_uri": "https://localhost:8080/",
          "height": 206
        },
        "id": "58680cd9",
        "outputId": "3b33bbdf-36e6-4d7d-cdc0-5698013fd368"
      },
      "source": [
        "df_perc = df[\"percent\"].copy()\n",
        "def mean_norm(df_input):\n",
        "    return df_input.apply(lambda x: (x-x.mean())/x.std(), axis=0)\n",
        "df_back = df.copy()\n",
        "df = mean_norm(df)\n",
        "df[\"percent\"] = df_perc\n",
        "df.head()"
      ],
      "id": "58680cd9",
      "execution_count": null,
      "outputs": [
        {
          "output_type": "execute_result",
          "data": {
            "text/html": [
              "<div>\n",
              "<style scoped>\n",
              "    .dataframe tbody tr th:only-of-type {\n",
              "        vertical-align: middle;\n",
              "    }\n",
              "\n",
              "    .dataframe tbody tr th {\n",
              "        vertical-align: top;\n",
              "    }\n",
              "\n",
              "    .dataframe thead th {\n",
              "        text-align: right;\n",
              "    }\n",
              "</style>\n",
              "<table border=\"1\" class=\"dataframe\">\n",
              "  <thead>\n",
              "    <tr style=\"text-align: right;\">\n",
              "      <th></th>\n",
              "      <th>HSCD</th>\n",
              "      <th>COUNTRYCD</th>\n",
              "      <th>TRADE_COUNTRYCD</th>\n",
              "      <th>TRADE_HSCD</th>\n",
              "      <th>TARIFF_AVG</th>\n",
              "      <th>NY_GDP_MKTP_CD</th>\n",
              "      <th>NY_GDP_MKTP_CD_1Y</th>\n",
              "      <th>SP_POP_TOTL</th>\n",
              "      <th>IC_BUS_EASE_DFRN_DB</th>\n",
              "      <th>percent</th>\n",
              "    </tr>\n",
              "  </thead>\n",
              "  <tbody>\n",
              "    <tr>\n",
              "      <th>0</th>\n",
              "      <td>-2.715736</td>\n",
              "      <td>-1.723865</td>\n",
              "      <td>-0.639063</td>\n",
              "      <td>0.110114</td>\n",
              "      <td>3.081394</td>\n",
              "      <td>-0.429544</td>\n",
              "      <td>-0.426263</td>\n",
              "      <td>-0.285299</td>\n",
              "      <td>-2.331051</td>\n",
              "      <td>0.224130</td>\n",
              "    </tr>\n",
              "    <tr>\n",
              "      <th>1</th>\n",
              "      <td>-2.715736</td>\n",
              "      <td>-1.629466</td>\n",
              "      <td>-0.246060</td>\n",
              "      <td>0.110114</td>\n",
              "      <td>-0.376954</td>\n",
              "      <td>-0.092166</td>\n",
              "      <td>-0.104394</td>\n",
              "      <td>-0.344291</td>\n",
              "      <td>0.899075</td>\n",
              "      <td>1.206797</td>\n",
              "    </tr>\n",
              "    <tr>\n",
              "      <th>2</th>\n",
              "      <td>-2.715736</td>\n",
              "      <td>-1.613733</td>\n",
              "      <td>-0.379583</td>\n",
              "      <td>0.110114</td>\n",
              "      <td>-0.376954</td>\n",
              "      <td>-0.357624</td>\n",
              "      <td>-0.353971</td>\n",
              "      <td>-0.399828</td>\n",
              "      <td>0.769616</td>\n",
              "      <td>0.074098</td>\n",
              "    </tr>\n",
              "    <tr>\n",
              "      <th>3</th>\n",
              "      <td>-2.715736</td>\n",
              "      <td>-1.550801</td>\n",
              "      <td>0.137421</td>\n",
              "      <td>0.110114</td>\n",
              "      <td>-0.376954</td>\n",
              "      <td>-0.332747</td>\n",
              "      <td>-0.329368</td>\n",
              "      <td>-0.390770</td>\n",
              "      <td>0.159147</td>\n",
              "      <td>0.024586</td>\n",
              "    </tr>\n",
              "    <tr>\n",
              "      <th>4</th>\n",
              "      <td>-2.715736</td>\n",
              "      <td>-1.472136</td>\n",
              "      <td>-0.413469</td>\n",
              "      <td>0.110114</td>\n",
              "      <td>1.698055</td>\n",
              "      <td>0.121388</td>\n",
              "      <td>0.075697</td>\n",
              "      <td>0.299598</td>\n",
              "      <td>-1.453061</td>\n",
              "      <td>0.392121</td>\n",
              "    </tr>\n",
              "  </tbody>\n",
              "</table>\n",
              "</div>"
            ],
            "text/plain": [
              "       HSCD  COUNTRYCD  ...  IC_BUS_EASE_DFRN_DB   percent\n",
              "0 -2.715736  -1.723865  ...            -2.331051  0.224130\n",
              "1 -2.715736  -1.629466  ...             0.899075  1.206797\n",
              "2 -2.715736  -1.613733  ...             0.769616  0.074098\n",
              "3 -2.715736  -1.550801  ...             0.159147  0.024586\n",
              "4 -2.715736  -1.472136  ...            -1.453061  0.392121\n",
              "\n",
              "[5 rows x 10 columns]"
            ]
          },
          "metadata": {
            "tags": []
          },
          "execution_count": 43
        }
      ]
    },
    {
      "cell_type": "code",
      "metadata": {
        "colab": {
          "base_uri": "https://localhost:8080/"
        },
        "id": "31421cd2",
        "outputId": "bf0a1411-a872-428e-ccdb-76e230c36b14"
      },
      "source": [
        "import torch\n",
        "\n",
        "x_train = np.array(df.iloc[:tr+te,:-1].values)\n",
        "y_train = np.array(df.iloc[:tr+te,-1].values)\n",
        "x_test = np.array(df.iloc[tr+te:,:-1].values)\n",
        "y_test = np.array(df.iloc[tr+te:,-1].values)\n",
        "\n",
        "max(y_train)"
      ],
      "id": "31421cd2",
      "execution_count": null,
      "outputs": [
        {
          "output_type": "execute_result",
          "data": {
            "text/plain": [
              "3357.3670103606646"
            ]
          },
          "metadata": {
            "tags": []
          },
          "execution_count": 44
        }
      ]
    },
    {
      "cell_type": "code",
      "metadata": {
        "id": "e522a870"
      },
      "source": [
        "## Linear Test Model"
      ],
      "id": "e522a870",
      "execution_count": null,
      "outputs": []
    },
    {
      "cell_type": "code",
      "metadata": {
        "id": "b7230123"
      },
      "source": [
        "import torch\n",
        "import torch.nn as nn\n",
        "import torch.nn.functional as F"
      ],
      "id": "b7230123",
      "execution_count": null,
      "outputs": []
    },
    {
      "cell_type": "code",
      "metadata": {
        "colab": {
          "base_uri": "https://localhost:8080/"
        },
        "id": "f469f226",
        "outputId": "c35fbd42-8def-4198-e8c7-6d6a29ca9a1d"
      },
      "source": [
        "torch.manual_seed(1)"
      ],
      "id": "f469f226",
      "execution_count": null,
      "outputs": [
        {
          "output_type": "execute_result",
          "data": {
            "text/plain": [
              "<torch._C.Generator at 0x7f90e4624b30>"
            ]
          },
          "metadata": {
            "tags": []
          },
          "execution_count": 47
        }
      ]
    },
    {
      "cell_type": "code",
      "metadata": {
        "colab": {
          "base_uri": "https://localhost:8080/"
        },
        "id": "bc644a2f",
        "outputId": "c1073625-d9ad-400e-8269-0fbaf24d9bb6"
      },
      "source": [
        "x_train.shape"
      ],
      "id": "bc644a2f",
      "execution_count": null,
      "outputs": [
        {
          "output_type": "execute_result",
          "data": {
            "text/plain": [
              "(16934, 9)"
            ]
          },
          "metadata": {
            "tags": []
          },
          "execution_count": 48
        }
      ]
    },
    {
      "cell_type": "code",
      "metadata": {
        "colab": {
          "base_uri": "https://localhost:8080/"
        },
        "id": "8Uht6aEQ3rYf",
        "outputId": "01bd0cc4-b81c-4ebf-d01f-31a73334f629"
      },
      "source": [
        "x_train[0]"
      ],
      "id": "8Uht6aEQ3rYf",
      "execution_count": null,
      "outputs": [
        {
          "output_type": "execute_result",
          "data": {
            "text/plain": [
              "array([-2.71573567, -1.72386485, -0.63906278,  0.1101143 ,  3.08139384,\n",
              "       -0.42954444, -0.42626326, -0.28529889, -2.33105123])"
            ]
          },
          "metadata": {
            "tags": []
          },
          "execution_count": 49
        }
      ]
    },
    {
      "cell_type": "code",
      "metadata": {
        "id": "143c1e08"
      },
      "source": [
        "model = nn.Linear(x_train.shape[1], 1)"
      ],
      "id": "143c1e08",
      "execution_count": null,
      "outputs": []
    },
    {
      "cell_type": "code",
      "metadata": {
        "id": "e9049e19"
      },
      "source": [
        "optimizer = torch.optim.SGD(model.parameters(), lr=1e-5)\n",
        "epochs = 20000"
      ],
      "id": "e9049e19",
      "execution_count": null,
      "outputs": []
    },
    {
      "cell_type": "code",
      "metadata": {
        "scrolled": true,
        "colab": {
          "base_uri": "https://localhost:8080/"
        },
        "id": "b3246744",
        "outputId": "4c4ac85f-5f3f-44c4-915f-ebc3392ac184"
      },
      "source": [
        "x_train = torch.FloatTensor(x_train)\n",
        "y_train = torch.FloatTensor(y_train)\n",
        "\n",
        "y_train = y_train.reshape(-1,1)\n",
        "\n",
        "for epoch in range(epochs+1):\n",
        "    pred = model(x_train)\n",
        "    \n",
        "    cost = F.mse_loss(pred, y_train)\n",
        "    optimizer.zero_grad()\n",
        "    cost.backward()\n",
        "    optimizer.step()\n",
        "    \n",
        "    if epoch % 100 == 0:\n",
        "        print('Epoch : {}/{}, Cost = {}'.format(epoch, epochs, cost.item()))\n",
        "        "
      ],
      "id": "b3246744",
      "execution_count": null,
      "outputs": [
        {
          "output_type": "stream",
          "text": [
            "Epoch : 0/20000, Cost = 2088.326904296875\n",
            "Epoch : 100/20000, Cost = 2088.159423828125\n",
            "Epoch : 200/20000, Cost = 2087.991943359375\n",
            "Epoch : 300/20000, Cost = 2087.825927734375\n",
            "Epoch : 400/20000, Cost = 2087.66064453125\n",
            "Epoch : 500/20000, Cost = 2087.49609375\n",
            "Epoch : 600/20000, Cost = 2087.33203125\n",
            "Epoch : 700/20000, Cost = 2087.1689453125\n",
            "Epoch : 800/20000, Cost = 2087.006591796875\n",
            "Epoch : 900/20000, Cost = 2086.844970703125\n",
            "Epoch : 1000/20000, Cost = 2086.68408203125\n",
            "Epoch : 1100/20000, Cost = 2086.52392578125\n",
            "Epoch : 1200/20000, Cost = 2086.3642578125\n",
            "Epoch : 1300/20000, Cost = 2086.2060546875\n",
            "Epoch : 1400/20000, Cost = 2086.0478515625\n",
            "Epoch : 1500/20000, Cost = 2085.890625\n",
            "Epoch : 1600/20000, Cost = 2085.734130859375\n",
            "Epoch : 1700/20000, Cost = 2085.57861328125\n",
            "Epoch : 1800/20000, Cost = 2085.42333984375\n",
            "Epoch : 1900/20000, Cost = 2085.269287109375\n",
            "Epoch : 2000/20000, Cost = 2085.115966796875\n",
            "Epoch : 2100/20000, Cost = 2084.962890625\n",
            "Epoch : 2200/20000, Cost = 2084.810791015625\n",
            "Epoch : 2300/20000, Cost = 2084.659423828125\n",
            "Epoch : 2400/20000, Cost = 2084.508544921875\n",
            "Epoch : 2500/20000, Cost = 2084.358642578125\n",
            "Epoch : 2600/20000, Cost = 2084.209228515625\n",
            "Epoch : 2700/20000, Cost = 2084.06103515625\n",
            "Epoch : 2800/20000, Cost = 2083.91259765625\n",
            "Epoch : 2900/20000, Cost = 2083.76513671875\n",
            "Epoch : 3000/20000, Cost = 2083.61865234375\n",
            "Epoch : 3100/20000, Cost = 2083.472412109375\n",
            "Epoch : 3200/20000, Cost = 2083.327392578125\n",
            "Epoch : 3300/20000, Cost = 2083.182861328125\n",
            "Epoch : 3400/20000, Cost = 2083.03857421875\n",
            "Epoch : 3500/20000, Cost = 2082.8955078125\n",
            "Epoch : 3600/20000, Cost = 2082.7529296875\n",
            "Epoch : 3700/20000, Cost = 2082.61083984375\n",
            "Epoch : 3800/20000, Cost = 2082.4697265625\n",
            "Epoch : 3900/20000, Cost = 2082.3291015625\n",
            "Epoch : 4000/20000, Cost = 2082.189208984375\n",
            "Epoch : 4100/20000, Cost = 2082.04931640625\n",
            "Epoch : 4200/20000, Cost = 2081.910888671875\n",
            "Epoch : 4300/20000, Cost = 2081.772705078125\n",
            "Epoch : 4400/20000, Cost = 2081.635009765625\n",
            "Epoch : 4500/20000, Cost = 2081.498046875\n",
            "Epoch : 4600/20000, Cost = 2081.362060546875\n",
            "Epoch : 4700/20000, Cost = 2081.2265625\n",
            "Epoch : 4800/20000, Cost = 2081.091552734375\n",
            "Epoch : 4900/20000, Cost = 2080.95703125\n",
            "Epoch : 5000/20000, Cost = 2080.82373046875\n",
            "Epoch : 5100/20000, Cost = 2080.690673828125\n",
            "Epoch : 5200/20000, Cost = 2080.557861328125\n",
            "Epoch : 5300/20000, Cost = 2080.425537109375\n",
            "Epoch : 5400/20000, Cost = 2080.29443359375\n",
            "Epoch : 5500/20000, Cost = 2080.163818359375\n",
            "Epoch : 5600/20000, Cost = 2080.03369140625\n",
            "Epoch : 5700/20000, Cost = 2079.904052734375\n",
            "Epoch : 5800/20000, Cost = 2079.775390625\n",
            "Epoch : 5900/20000, Cost = 2079.64697265625\n",
            "Epoch : 6000/20000, Cost = 2079.51904296875\n",
            "Epoch : 6100/20000, Cost = 2079.391845703125\n",
            "Epoch : 6200/20000, Cost = 2079.26513671875\n",
            "Epoch : 6300/20000, Cost = 2079.13916015625\n",
            "Epoch : 6400/20000, Cost = 2079.013916015625\n",
            "Epoch : 6500/20000, Cost = 2078.888916015625\n",
            "Epoch : 6600/20000, Cost = 2078.7646484375\n",
            "Epoch : 6700/20000, Cost = 2078.64111328125\n",
            "Epoch : 6800/20000, Cost = 2078.51806640625\n",
            "Epoch : 6900/20000, Cost = 2078.395263671875\n",
            "Epoch : 7000/20000, Cost = 2078.27294921875\n",
            "Epoch : 7100/20000, Cost = 2078.1513671875\n",
            "Epoch : 7200/20000, Cost = 2078.030517578125\n",
            "Epoch : 7300/20000, Cost = 2077.909912109375\n",
            "Epoch : 7400/20000, Cost = 2077.790283203125\n",
            "Epoch : 7500/20000, Cost = 2077.671142578125\n",
            "Epoch : 7600/20000, Cost = 2077.552490234375\n",
            "Epoch : 7700/20000, Cost = 2077.434326171875\n",
            "Epoch : 7800/20000, Cost = 2077.31640625\n",
            "Epoch : 7900/20000, Cost = 2077.198974609375\n",
            "Epoch : 8000/20000, Cost = 2077.08251953125\n",
            "Epoch : 8100/20000, Cost = 2076.96630859375\n",
            "Epoch : 8200/20000, Cost = 2076.850830078125\n",
            "Epoch : 8300/20000, Cost = 2076.73583984375\n",
            "Epoch : 8400/20000, Cost = 2076.620849609375\n",
            "Epoch : 8500/20000, Cost = 2076.507080078125\n",
            "Epoch : 8600/20000, Cost = 2076.3935546875\n",
            "Epoch : 8700/20000, Cost = 2076.280517578125\n",
            "Epoch : 8800/20000, Cost = 2076.168212890625\n",
            "Epoch : 8900/20000, Cost = 2076.05615234375\n",
            "Epoch : 9000/20000, Cost = 2075.94482421875\n",
            "Epoch : 9100/20000, Cost = 2075.83349609375\n",
            "Epoch : 9200/20000, Cost = 2075.72314453125\n",
            "Epoch : 9300/20000, Cost = 2075.613037109375\n",
            "Epoch : 9400/20000, Cost = 2075.503662109375\n",
            "Epoch : 9500/20000, Cost = 2075.39501953125\n",
            "Epoch : 9600/20000, Cost = 2075.2861328125\n",
            "Epoch : 9700/20000, Cost = 2075.178466796875\n",
            "Epoch : 9800/20000, Cost = 2075.07080078125\n",
            "Epoch : 9900/20000, Cost = 2074.963623046875\n",
            "Epoch : 10000/20000, Cost = 2074.857177734375\n",
            "Epoch : 10100/20000, Cost = 2074.751220703125\n",
            "Epoch : 10200/20000, Cost = 2074.6455078125\n",
            "Epoch : 10300/20000, Cost = 2074.540283203125\n",
            "Epoch : 10400/20000, Cost = 2074.435791015625\n",
            "Epoch : 10500/20000, Cost = 2074.33154296875\n",
            "Epoch : 10600/20000, Cost = 2074.22802734375\n",
            "Epoch : 10700/20000, Cost = 2074.125\n",
            "Epoch : 10800/20000, Cost = 2074.021728515625\n",
            "Epoch : 10900/20000, Cost = 2073.919677734375\n",
            "Epoch : 11000/20000, Cost = 2073.8173828125\n",
            "Epoch : 11100/20000, Cost = 2073.716552734375\n",
            "Epoch : 11200/20000, Cost = 2073.615234375\n",
            "Epoch : 11300/20000, Cost = 2073.514892578125\n",
            "Epoch : 11400/20000, Cost = 2073.414794921875\n",
            "Epoch : 11500/20000, Cost = 2073.31494140625\n",
            "Epoch : 11600/20000, Cost = 2073.2158203125\n",
            "Epoch : 11700/20000, Cost = 2073.1171875\n",
            "Epoch : 11800/20000, Cost = 2073.0185546875\n",
            "Epoch : 11900/20000, Cost = 2072.9208984375\n",
            "Epoch : 12000/20000, Cost = 2072.823486328125\n",
            "Epoch : 12100/20000, Cost = 2072.7265625\n",
            "Epoch : 12200/20000, Cost = 2072.6298828125\n",
            "Epoch : 12300/20000, Cost = 2072.533935546875\n",
            "Epoch : 12400/20000, Cost = 2072.438232421875\n",
            "Epoch : 12500/20000, Cost = 2072.343017578125\n",
            "Epoch : 12600/20000, Cost = 2072.248291015625\n",
            "Epoch : 12700/20000, Cost = 2072.154052734375\n",
            "Epoch : 12800/20000, Cost = 2072.06005859375\n",
            "Epoch : 12900/20000, Cost = 2071.966796875\n",
            "Epoch : 13000/20000, Cost = 2071.873291015625\n",
            "Epoch : 13100/20000, Cost = 2071.78076171875\n",
            "Epoch : 13200/20000, Cost = 2071.688720703125\n",
            "Epoch : 13300/20000, Cost = 2071.596923828125\n",
            "Epoch : 13400/20000, Cost = 2071.505126953125\n",
            "Epoch : 13500/20000, Cost = 2071.414306640625\n",
            "Epoch : 13600/20000, Cost = 2071.323486328125\n",
            "Epoch : 13700/20000, Cost = 2071.23291015625\n",
            "Epoch : 13800/20000, Cost = 2071.143310546875\n",
            "Epoch : 13900/20000, Cost = 2071.0537109375\n",
            "Epoch : 14000/20000, Cost = 2070.96435546875\n",
            "Epoch : 14100/20000, Cost = 2070.876220703125\n",
            "Epoch : 14200/20000, Cost = 2070.787841796875\n",
            "Epoch : 14300/20000, Cost = 2070.700439453125\n",
            "Epoch : 14400/20000, Cost = 2070.6123046875\n",
            "Epoch : 14500/20000, Cost = 2070.525634765625\n",
            "Epoch : 14600/20000, Cost = 2070.438720703125\n",
            "Epoch : 14700/20000, Cost = 2070.3525390625\n",
            "Epoch : 14800/20000, Cost = 2070.26611328125\n",
            "Epoch : 14900/20000, Cost = 2070.1806640625\n",
            "Epoch : 15000/20000, Cost = 2070.095458984375\n",
            "Epoch : 15100/20000, Cost = 2070.010986328125\n",
            "Epoch : 15200/20000, Cost = 2069.926025390625\n",
            "Epoch : 15300/20000, Cost = 2069.842529296875\n",
            "Epoch : 15400/20000, Cost = 2069.7587890625\n",
            "Epoch : 15500/20000, Cost = 2069.675537109375\n",
            "Epoch : 15600/20000, Cost = 2069.59228515625\n",
            "Epoch : 15700/20000, Cost = 2069.509765625\n",
            "Epoch : 15800/20000, Cost = 2069.427490234375\n",
            "Epoch : 15900/20000, Cost = 2069.345703125\n",
            "Epoch : 16000/20000, Cost = 2069.264404296875\n",
            "Epoch : 16100/20000, Cost = 2069.18310546875\n",
            "Epoch : 16200/20000, Cost = 2069.102294921875\n",
            "Epoch : 16300/20000, Cost = 2069.021728515625\n",
            "Epoch : 16400/20000, Cost = 2068.94189453125\n",
            "Epoch : 16500/20000, Cost = 2068.862060546875\n",
            "Epoch : 16600/20000, Cost = 2068.78271484375\n",
            "Epoch : 16700/20000, Cost = 2068.70361328125\n",
            "Epoch : 16800/20000, Cost = 2068.625\n",
            "Epoch : 16900/20000, Cost = 2068.547119140625\n",
            "Epoch : 17000/20000, Cost = 2068.468994140625\n",
            "Epoch : 17100/20000, Cost = 2068.3916015625\n",
            "Epoch : 17200/20000, Cost = 2068.314208984375\n",
            "Epoch : 17300/20000, Cost = 2068.237060546875\n",
            "Epoch : 17400/20000, Cost = 2068.160888671875\n",
            "Epoch : 17500/20000, Cost = 2068.084228515625\n",
            "Epoch : 17600/20000, Cost = 2068.00830078125\n",
            "Epoch : 17700/20000, Cost = 2067.932861328125\n",
            "Epoch : 17800/20000, Cost = 2067.857666015625\n",
            "Epoch : 17900/20000, Cost = 2067.78271484375\n",
            "Epoch : 18000/20000, Cost = 2067.708251953125\n",
            "Epoch : 18100/20000, Cost = 2067.6337890625\n",
            "Epoch : 18200/20000, Cost = 2067.56005859375\n",
            "Epoch : 18300/20000, Cost = 2067.486572265625\n",
            "Epoch : 18400/20000, Cost = 2067.413330078125\n",
            "Epoch : 18500/20000, Cost = 2067.340576171875\n",
            "Epoch : 18600/20000, Cost = 2067.267822265625\n",
            "Epoch : 18700/20000, Cost = 2067.195556640625\n",
            "Epoch : 18800/20000, Cost = 2067.12353515625\n",
            "Epoch : 18900/20000, Cost = 2067.0517578125\n",
            "Epoch : 19000/20000, Cost = 2066.980224609375\n",
            "Epoch : 19100/20000, Cost = 2066.90966796875\n",
            "Epoch : 19200/20000, Cost = 2066.838623046875\n",
            "Epoch : 19300/20000, Cost = 2066.767822265625\n",
            "Epoch : 19400/20000, Cost = 2066.697998046875\n",
            "Epoch : 19500/20000, Cost = 2066.62841796875\n",
            "Epoch : 19600/20000, Cost = 2066.55859375\n",
            "Epoch : 19700/20000, Cost = 2066.489990234375\n",
            "Epoch : 19800/20000, Cost = 2066.42041015625\n",
            "Epoch : 19900/20000, Cost = 2066.351806640625\n",
            "Epoch : 20000/20000, Cost = 2066.283447265625\n"
          ],
          "name": "stdout"
        }
      ]
    },
    {
      "cell_type": "code",
      "metadata": {
        "colab": {
          "base_uri": "https://localhost:8080/"
        },
        "id": "04542513",
        "outputId": "118faab0-f4e8-4c2f-d0eb-fb4c6873bff6"
      },
      "source": [
        "x_train.shape"
      ],
      "id": "04542513",
      "execution_count": null,
      "outputs": [
        {
          "output_type": "execute_result",
          "data": {
            "text/plain": [
              "torch.Size([16934, 9])"
            ]
          },
          "metadata": {
            "tags": []
          },
          "execution_count": 53
        }
      ]
    },
    {
      "cell_type": "code",
      "metadata": {
        "colab": {
          "base_uri": "https://localhost:8080/"
        },
        "id": "3d75af01",
        "outputId": "c8489745-eda6-44f3-af69-ba8f2f0b5d8b"
      },
      "source": [
        "y_train.shape"
      ],
      "id": "3d75af01",
      "execution_count": null,
      "outputs": [
        {
          "output_type": "execute_result",
          "data": {
            "text/plain": [
              "torch.Size([16934, 1])"
            ]
          },
          "metadata": {
            "tags": []
          },
          "execution_count": 54
        }
      ]
    },
    {
      "cell_type": "code",
      "metadata": {
        "colab": {
          "base_uri": "https://localhost:8080/"
        },
        "id": "dc6e1c33",
        "outputId": "72cbf64c-feb1-4c40-e36e-c1ca33c4b1b8"
      },
      "source": [
        "new_var = torch.FloatTensor(df.iloc[2][:-1])\n",
        "new_var = new_var.reshape(1,-1)\n",
        "new_var"
      ],
      "id": "dc6e1c33",
      "execution_count": null,
      "outputs": [
        {
          "output_type": "execute_result",
          "data": {
            "text/plain": [
              "tensor([[-2.7157, -1.6137, -0.3796,  0.1101, -0.3770, -0.3576, -0.3540, -0.3998,\n",
              "          0.7696]])"
            ]
          },
          "metadata": {
            "tags": []
          },
          "execution_count": 56
        }
      ]
    },
    {
      "cell_type": "code",
      "metadata": {
        "id": "Oc3GS1ycBW6e"
      },
      "source": [
        ""
      ],
      "id": "Oc3GS1ycBW6e",
      "execution_count": null,
      "outputs": []
    },
    {
      "cell_type": "code",
      "metadata": {
        "id": "2a6defcf"
      },
      "source": [
        "pred_y = model(new_var)"
      ],
      "id": "2a6defcf",
      "execution_count": null,
      "outputs": []
    },
    {
      "cell_type": "code",
      "metadata": {
        "colab": {
          "base_uri": "https://localhost:8080/"
        },
        "id": "59628ae2",
        "outputId": "175e96ea-90a0-4fd2-ab15-b6a9f8884051"
      },
      "source": [
        "pred_y"
      ],
      "id": "59628ae2",
      "execution_count": null,
      "outputs": [
        {
          "output_type": "execute_result",
          "data": {
            "text/plain": [
              "tensor([[1.1609]], grad_fn=<AddmmBackward>)"
            ]
          },
          "metadata": {
            "tags": []
          },
          "execution_count": 58
        }
      ]
    },
    {
      "cell_type": "code",
      "metadata": {
        "colab": {
          "base_uri": "https://localhost:8080/"
        },
        "id": "cec0ea5e",
        "outputId": "18748961-a432-4e7d-8425-6dfedfe890d7"
      },
      "source": [
        "df.iloc[2][:-1]"
      ],
      "id": "cec0ea5e",
      "execution_count": null,
      "outputs": [
        {
          "output_type": "execute_result",
          "data": {
            "text/plain": [
              "HSCD                  -2.715736\n",
              "COUNTRYCD             -1.613733\n",
              "TRADE_COUNTRYCD       -0.379583\n",
              "TRADE_HSCD             0.110114\n",
              "TARIFF_AVG            -0.376954\n",
              "NY_GDP_MKTP_CD        -0.357624\n",
              "NY_GDP_MKTP_CD_1Y     -0.353971\n",
              "SP_POP_TOTL           -0.399828\n",
              "IC_BUS_EASE_DFRN_DB    0.769616\n",
              "Name: 2, dtype: float64"
            ]
          },
          "metadata": {
            "tags": []
          },
          "execution_count": 59
        }
      ]
    },
    {
      "cell_type": "code",
      "metadata": {
        "colab": {
          "base_uri": "https://localhost:8080/"
        },
        "id": "6f0daa62",
        "outputId": "083eee38-014d-45e6-f847-4a04c393e431"
      },
      "source": [
        "torch.FloatTensor(x_test[0]).reshape(1,-1)"
      ],
      "id": "6f0daa62",
      "execution_count": null,
      "outputs": [
        {
          "output_type": "execute_result",
          "data": {
            "text/plain": [
              "tensor([[ 0.5468, -1.1732, -0.5977, -0.0511, -0.3770, -0.3984, -0.3985, -0.3658,\n",
              "          0.0808]])"
            ]
          },
          "metadata": {
            "tags": []
          },
          "execution_count": 60
        }
      ]
    },
    {
      "cell_type": "code",
      "metadata": {
        "id": "bdf32e15"
      },
      "source": [
        "import math\n",
        "\n",
        "err_sum = 0.0\n",
        "for i in range(x_test.shape[0]):\n",
        "    new_var = torch.FloatTensor(x_test[i]).reshape(1,-1)\n",
        "    pred_y = model(new_var)\n",
        "    err_val = y_test[i] - pred_y\n",
        "    err_sum += np.sqrt(math.pow(err_val, 2))\n"
      ],
      "id": "bdf32e15",
      "execution_count": null,
      "outputs": []
    },
    {
      "cell_type": "code",
      "metadata": {
        "colab": {
          "base_uri": "https://localhost:8080/"
        },
        "id": "f26e1dfb",
        "outputId": "9b906bbb-03eb-4952-b237-19940a98a158"
      },
      "source": [
        "err_sum / x_test.shape[0]"
      ],
      "id": "f26e1dfb",
      "execution_count": null,
      "outputs": [
        {
          "output_type": "execute_result",
          "data": {
            "text/plain": [
              "4.0840497331928685"
            ]
          },
          "metadata": {
            "tags": []
          },
          "execution_count": 62
        }
      ]
    },
    {
      "cell_type": "code",
      "metadata": {
        "colab": {
          "base_uri": "https://localhost:8080/",
          "height": 226
        },
        "id": "af48628c",
        "outputId": "24216c57-a36a-46ab-c92d-ff24a2ac9142"
      },
      "source": [
        "test_df = pd.read_csv(path + 'test.csv')\n",
        "test_df.head()"
      ],
      "id": "af48628c",
      "execution_count": null,
      "outputs": [
        {
          "output_type": "execute_result",
          "data": {
            "text/html": [
              "<div>\n",
              "<style scoped>\n",
              "    .dataframe tbody tr th:only-of-type {\n",
              "        vertical-align: middle;\n",
              "    }\n",
              "\n",
              "    .dataframe tbody tr th {\n",
              "        vertical-align: top;\n",
              "    }\n",
              "\n",
              "    .dataframe thead th {\n",
              "        text-align: right;\n",
              "    }\n",
              "</style>\n",
              "<table border=\"1\" class=\"dataframe\">\n",
              "  <thead>\n",
              "    <tr style=\"text-align: right;\">\n",
              "      <th></th>\n",
              "      <th>UNC_YEAR</th>\n",
              "      <th>HSCD</th>\n",
              "      <th>COUNTRYCD</th>\n",
              "      <th>COUNTRYNM</th>\n",
              "      <th>TRADE_COUNTRYCD</th>\n",
              "      <th>TRADE_HSCD</th>\n",
              "      <th>TARIFF_AVG</th>\n",
              "      <th>SNDIST</th>\n",
              "      <th>NY_GDP_MKTP_CD</th>\n",
              "      <th>NY_GDP_MKTP_CD_1Y</th>\n",
              "      <th>SP_POP_TOTL</th>\n",
              "      <th>PA_NUS_FCRF</th>\n",
              "      <th>IC_BUS_EASE_DFRN_DB</th>\n",
              "      <th>KMDIST</th>\n",
              "      <th>TRADE_HSCD_COUNTRYCD</th>\n",
              "      <th>KR_TRADE_HSCD_COUNTRYCD</th>\n",
              "    </tr>\n",
              "  </thead>\n",
              "  <tbody>\n",
              "    <tr>\n",
              "      <th>0</th>\n",
              "      <td>2018</td>\n",
              "      <td>190590</td>\n",
              "      <td>12</td>\n",
              "      <td>Algeria</td>\n",
              "      <td>4.219612e+10</td>\n",
              "      <td>2.223464e+10</td>\n",
              "      <td>27.0</td>\n",
              "      <td>3735.047389</td>\n",
              "      <td>1.754060e+11</td>\n",
              "      <td>1.701630e+11</td>\n",
              "      <td>42228429.0</td>\n",
              "      <td>100.691433</td>\n",
              "      <td>46.22686</td>\n",
              "      <td>9954.009766</td>\n",
              "      <td>6788998.0</td>\n",
              "      <td>NaN</td>\n",
              "    </tr>\n",
              "    <tr>\n",
              "      <th>1</th>\n",
              "      <td>2018</td>\n",
              "      <td>190590</td>\n",
              "      <td>36</td>\n",
              "      <td>Australia</td>\n",
              "      <td>2.404230e+11</td>\n",
              "      <td>2.223464e+10</td>\n",
              "      <td>1.2</td>\n",
              "      <td>11947.511360</td>\n",
              "      <td>1.432880e+12</td>\n",
              "      <td>1.329190e+12</td>\n",
              "      <td>24982688.0</td>\n",
              "      <td>1.035843</td>\n",
              "      <td>80.76007</td>\n",
              "      <td>8329.652344</td>\n",
              "      <td>482560567.0</td>\n",
              "      <td>NaN</td>\n",
              "    </tr>\n",
              "    <tr>\n",
              "      <th>2</th>\n",
              "      <td>2018</td>\n",
              "      <td>190590</td>\n",
              "      <td>40</td>\n",
              "      <td>Austria</td>\n",
              "      <td>1.869650e+11</td>\n",
              "      <td>2.223464e+10</td>\n",
              "      <td>2.8</td>\n",
              "      <td>4005.020029</td>\n",
              "      <td>4.550950e+11</td>\n",
              "      <td>4.172380e+11</td>\n",
              "      <td>8840521.0</td>\n",
              "      <td>NaN</td>\n",
              "      <td>78.70694</td>\n",
              "      <td>8289.029297</td>\n",
              "      <td>499925873.0</td>\n",
              "      <td>NaN</td>\n",
              "    </tr>\n",
              "    <tr>\n",
              "      <th>3</th>\n",
              "      <td>2018</td>\n",
              "      <td>190590</td>\n",
              "      <td>56</td>\n",
              "      <td>Belgium</td>\n",
              "      <td>4.614450e+11</td>\n",
              "      <td>2.223464e+10</td>\n",
              "      <td>2.8</td>\n",
              "      <td>4501.782826</td>\n",
              "      <td>5.437340e+11</td>\n",
              "      <td>5.026980e+11</td>\n",
              "      <td>11427054.0</td>\n",
              "      <td>NaN</td>\n",
              "      <td>72.18146</td>\n",
              "      <td>8722.114258</td>\n",
              "      <td>769101370.0</td>\n",
              "      <td>NaN</td>\n",
              "    </tr>\n",
              "    <tr>\n",
              "      <th>4</th>\n",
              "      <td>2018</td>\n",
              "      <td>190590</td>\n",
              "      <td>76</td>\n",
              "      <td>Brazil</td>\n",
              "      <td>1.852900e+11</td>\n",
              "      <td>2.223464e+10</td>\n",
              "      <td>17.1</td>\n",
              "      <td>10015.769070</td>\n",
              "      <td>1.885480e+12</td>\n",
              "      <td>2.062830e+12</td>\n",
              "      <td>209469333.0</td>\n",
              "      <td>2.156089</td>\n",
              "      <td>55.80145</td>\n",
              "      <td>18364.505860</td>\n",
              "      <td>40817292.0</td>\n",
              "      <td>NaN</td>\n",
              "    </tr>\n",
              "  </tbody>\n",
              "</table>\n",
              "</div>"
            ],
            "text/plain": [
              "   UNC_YEAR    HSCD  ...  TRADE_HSCD_COUNTRYCD KR_TRADE_HSCD_COUNTRYCD\n",
              "0      2018  190590  ...             6788998.0                     NaN\n",
              "1      2018  190590  ...           482560567.0                     NaN\n",
              "2      2018  190590  ...           499925873.0                     NaN\n",
              "3      2018  190590  ...           769101370.0                     NaN\n",
              "4      2018  190590  ...            40817292.0                     NaN\n",
              "\n",
              "[5 rows x 16 columns]"
            ]
          },
          "metadata": {
            "tags": []
          },
          "execution_count": 64
        }
      ]
    },
    {
      "cell_type": "code",
      "metadata": {
        "id": "698e0cac"
      },
      "source": [
        "columns = [\"HSCD\",\"COUNTRYCD\",\"TRADE_COUNTRYCD\",\"TRADE_HSCD\",\"TARIFF_AVG\",\"SNDIST\",\"NY_GDP_MKTP_CD\",\"NY_GDP_MKTP_CD_1Y\",\"SP_POP_TOTL\",\"IC_BUS_EASE_DFRN_DB\",\"KMDIST\",\"TRADE_HSCD_COUNTRYCD\",\"KR_TRADE_HSCD_COUNTRYCD\"]\n",
        "test_df = test_df[columns].copy()\n",
        "\n",
        "test_df['SNDIST'] = test_df['SNDIST'].fillna(test_df['SNDIST'].mean())\n",
        "test_df['TARIFF_AVG'] = test_df['TARIFF_AVG'].fillna(test_df['TARIFF_AVG'].mean())\n",
        "\n",
        "\n",
        "test_df = test_df.drop('SNDIST', axis=1).copy()\n",
        "test_df = test_df.drop('KMDIST', axis=1).copy()\n"
      ],
      "id": "698e0cac",
      "execution_count": null,
      "outputs": []
    },
    {
      "cell_type": "code",
      "metadata": {
        "colab": {
          "base_uri": "https://localhost:8080/",
          "height": 226
        },
        "id": "4Ql5IVgL1dZD",
        "outputId": "d655bc2b-b728-42c5-96b8-ef33aa0e6d52"
      },
      "source": [
        "test_df.head()"
      ],
      "id": "4Ql5IVgL1dZD",
      "execution_count": null,
      "outputs": [
        {
          "output_type": "execute_result",
          "data": {
            "text/html": [
              "<div>\n",
              "<style scoped>\n",
              "    .dataframe tbody tr th:only-of-type {\n",
              "        vertical-align: middle;\n",
              "    }\n",
              "\n",
              "    .dataframe tbody tr th {\n",
              "        vertical-align: top;\n",
              "    }\n",
              "\n",
              "    .dataframe thead th {\n",
              "        text-align: right;\n",
              "    }\n",
              "</style>\n",
              "<table border=\"1\" class=\"dataframe\">\n",
              "  <thead>\n",
              "    <tr style=\"text-align: right;\">\n",
              "      <th></th>\n",
              "      <th>HSCD</th>\n",
              "      <th>COUNTRYCD</th>\n",
              "      <th>TRADE_COUNTRYCD</th>\n",
              "      <th>TRADE_HSCD</th>\n",
              "      <th>TARIFF_AVG</th>\n",
              "      <th>NY_GDP_MKTP_CD</th>\n",
              "      <th>NY_GDP_MKTP_CD_1Y</th>\n",
              "      <th>SP_POP_TOTL</th>\n",
              "      <th>IC_BUS_EASE_DFRN_DB</th>\n",
              "      <th>TRADE_HSCD_COUNTRYCD</th>\n",
              "      <th>KR_TRADE_HSCD_COUNTRYCD</th>\n",
              "    </tr>\n",
              "  </thead>\n",
              "  <tbody>\n",
              "    <tr>\n",
              "      <th>0</th>\n",
              "      <td>190590</td>\n",
              "      <td>12</td>\n",
              "      <td>4.219612e+10</td>\n",
              "      <td>2.223464e+10</td>\n",
              "      <td>27.0</td>\n",
              "      <td>1.754060e+11</td>\n",
              "      <td>1.701630e+11</td>\n",
              "      <td>42228429.0</td>\n",
              "      <td>46.22686</td>\n",
              "      <td>6788998.0</td>\n",
              "      <td>NaN</td>\n",
              "    </tr>\n",
              "    <tr>\n",
              "      <th>1</th>\n",
              "      <td>190590</td>\n",
              "      <td>36</td>\n",
              "      <td>2.404230e+11</td>\n",
              "      <td>2.223464e+10</td>\n",
              "      <td>1.2</td>\n",
              "      <td>1.432880e+12</td>\n",
              "      <td>1.329190e+12</td>\n",
              "      <td>24982688.0</td>\n",
              "      <td>80.76007</td>\n",
              "      <td>482560567.0</td>\n",
              "      <td>NaN</td>\n",
              "    </tr>\n",
              "    <tr>\n",
              "      <th>2</th>\n",
              "      <td>190590</td>\n",
              "      <td>40</td>\n",
              "      <td>1.869650e+11</td>\n",
              "      <td>2.223464e+10</td>\n",
              "      <td>2.8</td>\n",
              "      <td>4.550950e+11</td>\n",
              "      <td>4.172380e+11</td>\n",
              "      <td>8840521.0</td>\n",
              "      <td>78.70694</td>\n",
              "      <td>499925873.0</td>\n",
              "      <td>NaN</td>\n",
              "    </tr>\n",
              "    <tr>\n",
              "      <th>3</th>\n",
              "      <td>190590</td>\n",
              "      <td>56</td>\n",
              "      <td>4.614450e+11</td>\n",
              "      <td>2.223464e+10</td>\n",
              "      <td>2.8</td>\n",
              "      <td>5.437340e+11</td>\n",
              "      <td>5.026980e+11</td>\n",
              "      <td>11427054.0</td>\n",
              "      <td>72.18146</td>\n",
              "      <td>769101370.0</td>\n",
              "      <td>NaN</td>\n",
              "    </tr>\n",
              "    <tr>\n",
              "      <th>4</th>\n",
              "      <td>190590</td>\n",
              "      <td>76</td>\n",
              "      <td>1.852900e+11</td>\n",
              "      <td>2.223464e+10</td>\n",
              "      <td>17.1</td>\n",
              "      <td>1.885480e+12</td>\n",
              "      <td>2.062830e+12</td>\n",
              "      <td>209469333.0</td>\n",
              "      <td>55.80145</td>\n",
              "      <td>40817292.0</td>\n",
              "      <td>NaN</td>\n",
              "    </tr>\n",
              "  </tbody>\n",
              "</table>\n",
              "</div>"
            ],
            "text/plain": [
              "     HSCD  COUNTRYCD  ...  TRADE_HSCD_COUNTRYCD  KR_TRADE_HSCD_COUNTRYCD\n",
              "0  190590         12  ...             6788998.0                      NaN\n",
              "1  190590         36  ...           482560567.0                      NaN\n",
              "2  190590         40  ...           499925873.0                      NaN\n",
              "3  190590         56  ...           769101370.0                      NaN\n",
              "4  190590         76  ...            40817292.0                      NaN\n",
              "\n",
              "[5 rows x 11 columns]"
            ]
          },
          "metadata": {
            "tags": []
          },
          "execution_count": 66
        }
      ]
    },
    {
      "cell_type": "code",
      "metadata": {
        "colab": {
          "base_uri": "https://localhost:8080/"
        },
        "id": "cz4By-mG3DJp",
        "outputId": "2040f45b-a071-4ee2-9e0b-1a19e8d71942"
      },
      "source": [
        "test_df = mean_norm(test_df)\n",
        "x_test = np.array(test_df.iloc[:,:-2].values)\n",
        "x_test[0]"
      ],
      "id": "cz4By-mG3DJp",
      "execution_count": null,
      "outputs": [
        {
          "output_type": "execute_result",
          "data": {
            "text/plain": [
              "array([-2.71217613, -1.72467426, -0.65658563,  0.11474505,  2.72387212,\n",
              "       -0.42743595, -0.42940035, -0.28357208, -2.43669591])"
            ]
          },
          "metadata": {
            "tags": []
          },
          "execution_count": 67
        }
      ]
    },
    {
      "cell_type": "code",
      "metadata": {
        "colab": {
          "base_uri": "https://localhost:8080/"
        },
        "id": "CXw-2gdv2rUI",
        "outputId": "081fcd0d-4943-4c80-a41e-f685b432e617"
      },
      "source": [
        "result = pd.read_csv(path + 'test.csv')\n",
        "pd.options.display.float_format = '{:.5f}'.format\n",
        "res = []\n",
        "for i in range(x_test.shape[0]):\n",
        "    new_var = torch.FloatTensor(x_test[i]).reshape(1,-1)\n",
        "    pred_y = model(new_var)\n",
        "    result[\"KR_TRADE_HSCD_COUNTRYCD\"][i] = (result[\"TRADE_HSCD_COUNTRYCD\"][i] * (float(pred_y)/100))\n",
        "\n"
      ],
      "id": "CXw-2gdv2rUI",
      "execution_count": null,
      "outputs": [
        {
          "output_type": "stream",
          "text": [
            "/usr/local/lib/python3.7/dist-packages/ipykernel_launcher.py:7: SettingWithCopyWarning: \n",
            "A value is trying to be set on a copy of a slice from a DataFrame\n",
            "\n",
            "See the caveats in the documentation: https://pandas.pydata.org/pandas-docs/stable/user_guide/indexing.html#returning-a-view-versus-a-copy\n",
            "  import sys\n"
          ],
          "name": "stderr"
        }
      ]
    },
    {
      "cell_type": "code",
      "metadata": {
        "id": "bbvHQ9Mp_8tS"
      },
      "source": [
        "result.to_csv(path+\"filename.csv\", mode='w')"
      ],
      "id": "bbvHQ9Mp_8tS",
      "execution_count": null,
      "outputs": []
    },
    {
      "cell_type": "code",
      "metadata": {
        "id": "rShyZn8HAvWi",
        "colab": {
          "base_uri": "https://localhost:8080/",
          "height": 206
        },
        "outputId": "2a4c9c04-ce93-4366-a746-9027fdacf7ae"
      },
      "source": [
        "df.head()"
      ],
      "id": "rShyZn8HAvWi",
      "execution_count": null,
      "outputs": [
        {
          "output_type": "execute_result",
          "data": {
            "text/html": [
              "<div>\n",
              "<style scoped>\n",
              "    .dataframe tbody tr th:only-of-type {\n",
              "        vertical-align: middle;\n",
              "    }\n",
              "\n",
              "    .dataframe tbody tr th {\n",
              "        vertical-align: top;\n",
              "    }\n",
              "\n",
              "    .dataframe thead th {\n",
              "        text-align: right;\n",
              "    }\n",
              "</style>\n",
              "<table border=\"1\" class=\"dataframe\">\n",
              "  <thead>\n",
              "    <tr style=\"text-align: right;\">\n",
              "      <th></th>\n",
              "      <th>HSCD</th>\n",
              "      <th>COUNTRYCD</th>\n",
              "      <th>TRADE_COUNTRYCD</th>\n",
              "      <th>TRADE_HSCD</th>\n",
              "      <th>TARIFF_AVG</th>\n",
              "      <th>NY_GDP_MKTP_CD</th>\n",
              "      <th>NY_GDP_MKTP_CD_1Y</th>\n",
              "      <th>SP_POP_TOTL</th>\n",
              "      <th>IC_BUS_EASE_DFRN_DB</th>\n",
              "      <th>percent</th>\n",
              "    </tr>\n",
              "  </thead>\n",
              "  <tbody>\n",
              "    <tr>\n",
              "      <th>0</th>\n",
              "      <td>-2.71574</td>\n",
              "      <td>-1.72386</td>\n",
              "      <td>-0.63906</td>\n",
              "      <td>0.11011</td>\n",
              "      <td>3.08139</td>\n",
              "      <td>-0.42954</td>\n",
              "      <td>-0.42626</td>\n",
              "      <td>-0.28530</td>\n",
              "      <td>-2.33105</td>\n",
              "      <td>0.22413</td>\n",
              "    </tr>\n",
              "    <tr>\n",
              "      <th>1</th>\n",
              "      <td>-2.71574</td>\n",
              "      <td>-1.62947</td>\n",
              "      <td>-0.24606</td>\n",
              "      <td>0.11011</td>\n",
              "      <td>-0.37695</td>\n",
              "      <td>-0.09217</td>\n",
              "      <td>-0.10439</td>\n",
              "      <td>-0.34429</td>\n",
              "      <td>0.89907</td>\n",
              "      <td>1.20680</td>\n",
              "    </tr>\n",
              "    <tr>\n",
              "      <th>2</th>\n",
              "      <td>-2.71574</td>\n",
              "      <td>-1.61373</td>\n",
              "      <td>-0.37958</td>\n",
              "      <td>0.11011</td>\n",
              "      <td>-0.37695</td>\n",
              "      <td>-0.35762</td>\n",
              "      <td>-0.35397</td>\n",
              "      <td>-0.39983</td>\n",
              "      <td>0.76962</td>\n",
              "      <td>0.07410</td>\n",
              "    </tr>\n",
              "    <tr>\n",
              "      <th>3</th>\n",
              "      <td>-2.71574</td>\n",
              "      <td>-1.55080</td>\n",
              "      <td>0.13742</td>\n",
              "      <td>0.11011</td>\n",
              "      <td>-0.37695</td>\n",
              "      <td>-0.33275</td>\n",
              "      <td>-0.32937</td>\n",
              "      <td>-0.39077</td>\n",
              "      <td>0.15915</td>\n",
              "      <td>0.02459</td>\n",
              "    </tr>\n",
              "    <tr>\n",
              "      <th>4</th>\n",
              "      <td>-2.71574</td>\n",
              "      <td>-1.47214</td>\n",
              "      <td>-0.41347</td>\n",
              "      <td>0.11011</td>\n",
              "      <td>1.69805</td>\n",
              "      <td>0.12139</td>\n",
              "      <td>0.07570</td>\n",
              "      <td>0.29960</td>\n",
              "      <td>-1.45306</td>\n",
              "      <td>0.39212</td>\n",
              "    </tr>\n",
              "  </tbody>\n",
              "</table>\n",
              "</div>"
            ],
            "text/plain": [
              "      HSCD  COUNTRYCD  ...  IC_BUS_EASE_DFRN_DB  percent\n",
              "0 -2.71574   -1.72386  ...             -2.33105  0.22413\n",
              "1 -2.71574   -1.62947  ...              0.89907  1.20680\n",
              "2 -2.71574   -1.61373  ...              0.76962  0.07410\n",
              "3 -2.71574   -1.55080  ...              0.15915  0.02459\n",
              "4 -2.71574   -1.47214  ...             -1.45306  0.39212\n",
              "\n",
              "[5 rows x 10 columns]"
            ]
          },
          "metadata": {
            "tags": []
          },
          "execution_count": 72
        }
      ]
    },
    {
      "cell_type": "code",
      "metadata": {
        "id": "Ue9rRfZmMVyD"
      },
      "source": [
        ""
      ],
      "id": "Ue9rRfZmMVyD",
      "execution_count": null,
      "outputs": []
    }
  ]
}